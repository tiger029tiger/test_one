{
 "cells": [
  {
   "cell_type": "markdown",
   "metadata": {},
   "source": [
    "<hr>\n",
    "# 第1讲-网络爬虫技术基础（网络数据采集）"
   ]
  },
  {
   "cell_type": "markdown",
   "metadata": {
    "collapsed": true
   },
   "source": [
    "1. 网络通信基础\n",
    "2. HTTP协议简介\n",
    "3. Web开发知识介绍\n",
    "4. 网站分析知识介绍"
   ]
  },
  {
   "cell_type": "markdown",
   "metadata": {
    "collapsed": true
   },
   "source": [
    "## 1. 网络通信基础"
   ]
  },
  {
   "cell_type": "markdown",
   "metadata": {},
   "source": [
    "![](./dataTm/work_pic/www.png)"
   ]
  },
  {
   "cell_type": "markdown",
   "metadata": {},
   "source": [
    "![](./dataTm/work_pic/clinetserver.png)"
   ]
  },
  {
   "cell_type": "markdown",
   "metadata": {},
   "source": [
    "## 2. HTTP协议简介"
   ]
  },
  {
   "cell_type": "markdown",
   "metadata": {},
   "source": [
    "### 2.1 使用HTTP协议访问Web\n",
    "#### 过程：\n",
    "#### 1. 在浏览器地址栏内输入URL之后，信息被送往某处\n",
    "#### 2. 然后从某处获得回复，内容会显示在Web页面上"
   ]
  },
  {
   "cell_type": "markdown",
   "metadata": {},
   "source": [
    "#### “客户端”通过指定的访问地址获取（或上传）服务器资源（文件等信息），使用HTTP的协议作为规范，完成从客户端到服务器端等一系列运作流程。\n",
    "#### Web是建立在HTTP协议上通讯的。"
   ]
  },
  {
   "cell_type": "markdown",
   "metadata": {},
   "source": [
    "- 爬取qq新闻是一回事，爬取qq信息是另外一回事"
   ]
  },
  {
   "cell_type": "markdown",
   "metadata": {},
   "source": [
    "- http://blog.csdn.net/czp11210/article/details/25193791\n",
    "    \n",
    "- http://stackoverflow.com/questions/2092527/what-happens-when-you-type-in-a-url-in-browser"
   ]
  },
  {
   "cell_type": "markdown",
   "metadata": {},
   "source": [
    "### 2.2 告知服务器意图的HTTP方法\n",
    "#### GET：获取资源\n",
    "#### POST：传输实体主体\n",
    "#### PUT: 传输文件\n",
    "#### HEAD: 获得报文首部(Header)\n",
    "#### DELETE:删除文件\n",
    "#### OPTIONS: 询问支持的方法\n",
    "#### TRACE: 追踪路径\n"
   ]
  },
  {
   "cell_type": "markdown",
   "metadata": {},
   "source": [
    "### 2.3 HTTP是无状态协议\n",
    "\n",
    "- HTTP不对之前发生过的请求和响应的状态进行管理\n",
    "- 使用Cookie进行状态管理"
   ]
  },
  {
   "cell_type": "markdown",
   "metadata": {},
   "source": [
    "#### Cookie过程：\n",
    "#### 客户端发送请求--服务器生成Cookie，记住是向谁发送--在响应中添加Cookie后返回\n",
    "#### 客户端在请求中添加Cookie后发送请求--服务器端检查Cookie--服务器端给出响应"
   ]
  },
  {
   "cell_type": "markdown",
   "metadata": {},
   "source": [
    "### 2.4 返回结果的HTTP状态码\n",
    "#### 1XX：信息性状态码（接收的请求正在处理）\n",
    "#### 2XX：成功状态码（请求正常处理完毕）\n",
    "#### 3XX：重定向状态码（需要进行附加操作以完成请求）\n",
    "#### 爬虫库一般会对重定向做处理；动态网页具有自动跳转的特点\n",
    "#### 4XX：客户端错误状态码（服务器无法处理请求）\n",
    "#### 5XX：服务器错误状态码（服务器处理请求出错）\n",
    "#### 服务器错误，通常可以进行一定次数的重连，然后放弃"
   ]
  },
  {
   "cell_type": "markdown",
   "metadata": {},
   "source": [
    "#### 常见的状态码：\n",
    "#### 200 OK：客户端发来的请求在服务器端被正常处理\n",
    "\n",
    "#### 400 Bad Request: 报文存在语法错误，服务器无法理解\n",
    "#### 403 Forbidden：请求资源的访问被服务器拒绝（服务器不用给出理由）\n",
    "\n",
    "需要验证登录，或者被封禁\n",
    "\n",
    "#### 404 Not Found: 服务器上没有请求的资源\n",
    "\n",
    "找不到，一般会跳过不爬\n",
    "\n",
    "#### 500 Internal Server Error: 服务器端执行请求时发生故障\n",
    "#### 503 Service Unavailable：服务器超负荷或者停机维护\n",
    "#### 爬虫坑：\n",
    "#### 状态码和状况不一致"
   ]
  },
  {
   "cell_type": "markdown",
   "metadata": {
    "collapsed": true
   },
   "source": [
    "http://httpstat.us"
   ]
  },
  {
   "cell_type": "markdown",
   "metadata": {},
   "source": [
    "### 2.5 HTTP首部字段\n"
   ]
  },
  {
   "cell_type": "markdown",
   "metadata": {},
   "source": [
    "demo:用Chrome观察"
   ]
  },
  {
   "cell_type": "markdown",
   "metadata": {},
   "source": [
    "#### 请求首部（Request Header）字段\n",
    "##### User-Agent: HTTP客户端程序的信息"
   ]
  },
  {
   "cell_type": "markdown",
   "metadata": {},
   "source": [
    "Request Headers：\n",
    "\n",
    "Accept:text/html,application/xhtml+xml,application/xml;q=0.9,image/webp,*/*;q=0.8\n",
    "    \n",
    "Accept-Encoding:gzip, deflate, sdch, br\n",
    "\n",
    "Accept-Language:zh-CN,zh;q=0.8\n",
    "\n",
    "Connection:keep-alive\n",
    "\n",
    "Cookie:gr_user_id=0ac861a4-57f8-4222-9aac-34677025c39b;\n",
    "\n",
    "Host:www.douban.com\n",
    "\n",
    "Upgrade-Insecure-Requests:1\n",
    "\n",
    "User-Agent:Mozilla/5.0 (Windows NT 6.1; Win64; x64) AppleWebKit/537.36 (KHTML, like Gecko) Chrome/57.0.2987.133 Safari/537.36"
   ]
  },
  {
   "cell_type": "markdown",
   "metadata": {},
   "source": [
    "#### 响应首部（Response Header）字段"
   ]
  },
  {
   "cell_type": "markdown",
   "metadata": {},
   "source": [
    "## 3. Web开发知识介绍"
   ]
  },
  {
   "cell_type": "markdown",
   "metadata": {},
   "source": [
    "Appserv"
   ]
  },
  {
   "cell_type": "markdown",
   "metadata": {},
   "source": [
    "tips:\n",
    "\n",
    "Appserv是一个集成了web server，mysql数据库等工具的集成环境"
   ]
  },
  {
   "cell_type": "markdown",
   "metadata": {},
   "source": [
    "#### HTML、CSS、Javascript"
   ]
  },
  {
   "cell_type": "markdown",
   "metadata": {},
   "source": [
    "1. 页面结构介绍（包括HTML, CSS, Javascript）\n",
    "2. 浏览器开发者工具"
   ]
  },
  {
   "cell_type": "markdown",
   "metadata": {},
   "source": [
    "- 页面结构"
   ]
  },
  {
   "cell_type": "markdown",
   "metadata": {},
   "source": [
    "```html\n",
    "<!-- This is a basic html structure -->\n",
    "<!DOCTYPE html>\n",
    "<html>\n",
    "    <head>\n",
    "        <title>A basic html structure</title>\n",
    "        <meta charset=\"utf-8\">\n",
    "        <link href=\"main.css\" rel=\"stylesheet\" type=\"text/css\" >\n",
    "        <script type=\"text/javascript\" src=\"./jquery.js\"></script>\n",
    "    </head>\n",
    "    <body>\n",
    "    <h1>hello</h1>\n",
    "    <div class=\"css\">This is css class</div>  \n",
    "    <div class=\"css\" id=\"class2\">This is also class, but id number 2</div>\n",
    "    <p>hello, <span>world</span></p>\n",
    "    </body>\n",
    "    \n",
    "</html>\n",
    "```"
   ]
  },
  {
   "cell_type": "markdown",
   "metadata": {},
   "source": [
    "```css\n",
    "#main.css\n",
    "### CSS选择器\n",
    ".css { width:100px; height:100px; border:1px solid #000; float:left; }\n",
    "#class2 { background:#FF0000;}\n",
    "div {\n",
    "  color: #333;\n",
    "  background: #fff;\n",
    "  }\n",
    "p {\n",
    "  color: #333;\n",
    "  background: #fff;\n",
    "  }\n",
    "```"
   ]
  },
  {
   "cell_type": "markdown",
   "metadata": {},
   "source": [
    "- 浏览器开发者工具（demo）\n",
    "- 互联网公司彩蛋"
   ]
  },
  {
   "cell_type": "markdown",
   "metadata": {},
   "source": [
    "demo:html页面演示\n",
    "\n",
    "lxml_xpath.html"
   ]
  },
  {
   "cell_type": "markdown",
   "metadata": {
    "collapsed": true
   },
   "source": [
    "-----"
   ]
  },
  {
   "cell_type": "markdown",
   "metadata": {},
   "source": [
    "## 4. 网站分析知识介绍"
   ]
  },
  {
   "cell_type": "markdown",
   "metadata": {},
   "source": [
    "### 4.1 爬虫的合法性"
   ]
  },
  {
   "cell_type": "markdown",
   "metadata": {},
   "source": [
    "1. 界限不清晰\n",
    "2. 查看robots\n",
    "3. 个人使用or商业使用\n",
    "4. 真实数据  vs.  原创数据\n",
    "5. 不要给网站带来伤害（放慢速度，少占用带宽）"
   ]
  },
  {
   "cell_type": "markdown",
   "metadata": {},
   "source": [
    "### 4.2 robots.txt介绍"
   ]
  },
  {
   "cell_type": "markdown",
   "metadata": {},
   "source": [
    "demo 豆瓣的robots："
   ]
  },
  {
   "cell_type": "markdown",
   "metadata": {},
   "source": [
    "```html\n",
    "User-agent: *\n",
    "Disallow: /subject_search\n",
    "Disallow: /amazon_search\n",
    "Disallow: /search\n",
    "Disallow: /doubanapp/card\n",
    "Sitemap: https://www.douban.com/sitemap_index.xml\n",
    "Sitemap: https://www.douban.com/sitemap_updated_index.xml\n",
    "# Crawl-delay: 5\n",
    "\n",
    "User-agent: Wandoujia Spider\n",
    "Disallow: /\n",
    "\n",
    "User-agent: *\n",
    "Crawl-delay: 5\n",
    "Disallow: /trap\n",
    "\n",
    "```"
   ]
  },
  {
   "cell_type": "markdown",
   "metadata": {},
   "source": [
    "1. 有的没有robots\n",
    "2. 查看robots的习惯\n",
    "3. 避免陷阱\n",
    "4. 尽量遵守\n",
    "5. 写进爬虫中"
   ]
  },
  {
   "cell_type": "code",
   "execution_count": null,
   "metadata": {
    "collapsed": true
   },
   "outputs": [],
   "source": []
  },
  {
   "cell_type": "markdown",
   "metadata": {},
   "source": [
    "### 4.3 网站地图（Sitemap）介绍"
   ]
  },
  {
   "cell_type": "markdown",
   "metadata": {},
   "source": [
    "Sitemap: https://www.douban.com/sitemap_index.xml\n",
    "\n",
    "Sitemap: https://www.douban.com/sitemap_updated_index.xml"
   ]
  },
  {
   "cell_type": "markdown",
   "metadata": {},
   "source": [
    "```xml\n",
    "<?xml version=\"1.0\" encoding=\"utf-8\"?>\n",
    "<urlset xmlns=\"http://www.sitemaps.org/schemas/sitemap/0.9\">\n",
    "  <url>\n",
    "    <loc>https://www.douban.com/</loc>\n",
    "    <priority>1.0</priority>\n",
    "    <changefreq>daily</changefreq>\n",
    "  </url>\n",
    "  <url>\n",
    "    <loc>https://www.douban.com/explore/</loc>\n",
    "    <priority>0.9</priority>\n",
    "    <changefreq>daily</changefreq>\n",
    "  </url>\n",
    "</urlset>\n",
    "\n",
    "```"
   ]
  },
  {
   "cell_type": "markdown",
   "metadata": {},
   "source": [
    "1. 方便探索网站结构\n",
    "2. 方便爬取（有的网站）\n",
    "3. 信息缺失、过期"
   ]
  },
  {
   "cell_type": "markdown",
   "metadata": {
    "collapsed": true
   },
   "source": [
    "demo 豆瓣的sitemap"
   ]
  },
  {
   "cell_type": "markdown",
   "metadata": {},
   "source": [
    "### 4.4 估算网站大小"
   ]
  },
  {
   "cell_type": "markdown",
   "metadata": {},
   "source": [
    "网站大小对爬取量，爬取速度，爬取方式提供信息"
   ]
  },
  {
   "cell_type": "markdown",
   "metadata": {},
   "source": [
    "- google:\n",
    "    \n",
    "site:www.douban.com\n",
    "\n",
    "site:www.douban.com/book"
   ]
  },
  {
   "cell_type": "markdown",
   "metadata": {},
   "source": [
    "- baidu:\n",
    "    \n",
    "site:www.douban.com\n",
    "\n"
   ]
  },
  {
   "cell_type": "code",
   "execution_count": null,
   "metadata": {
    "collapsed": true
   },
   "outputs": [],
   "source": []
  },
  {
   "cell_type": "markdown",
   "metadata": {},
   "source": [
    "### 4.5 识别网站所用技术"
   ]
  },
  {
   "cell_type": "code",
   "execution_count": 1,
   "metadata": {
    "collapsed": true
   },
   "outputs": [],
   "source": [
    "#import builtwith\n",
    "#builtwith.parse('http://www.douban.com')\n",
    "# 静态页面？\n",
    "# 动态页面？\n",
    "# 表单？\n",
    "# flash？"
   ]
  },
  {
   "cell_type": "code",
   "execution_count": 4,
   "metadata": {
    "collapsed": true
   },
   "outputs": [],
   "source": [
    "# pip install builtwith\n",
    "# python 3可以安装但是import出错，建议可以搭建一个py2的虚拟环境"
   ]
  },
  {
   "cell_type": "markdown",
   "metadata": {
    "collapsed": true
   },
   "source": [
    "- 更好用\n",
    "- https://wappalyzer.com/"
   ]
  },
  {
   "cell_type": "markdown",
   "metadata": {},
   "source": [
    "### 4.6 识别网站所有者"
   ]
  },
  {
   "cell_type": "code",
   "execution_count": 7,
   "metadata": {
    "collapsed": true
   },
   "outputs": [],
   "source": [
    "#pip install python-whois\n",
    "#import whois\n",
    "#print whois.whois('appspot.com')\n"
   ]
  },
  {
   "cell_type": "markdown",
   "metadata": {
    "collapsed": true
   },
   "source": [
    "http://www.wmzy.com/"
   ]
  },
  {
   "cell_type": "code",
   "execution_count": null,
   "metadata": {
    "collapsed": true
   },
   "outputs": [],
   "source": []
  }
 ],
 "metadata": {
  "kernelspec": {
   "display_name": "Python 3",
   "language": "python",
   "name": "python3"
  },
  "language_info": {
   "codemirror_mode": {
    "name": "ipython",
    "version": 3
   },
   "file_extension": ".py",
   "mimetype": "text/x-python",
   "name": "python",
   "nbconvert_exporter": "python",
   "pygments_lexer": "ipython3",
   "version": "3.5.3"
  }
 },
 "nbformat": 4,
 "nbformat_minor": 2
}
