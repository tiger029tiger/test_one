{
 "cells": [
  {
   "cell_type": "markdown",
   "metadata": {},
   "source": [
    "<hr>\n",
    "# 第4讲-网络爬虫存储"
   ]
  },
  {
   "cell_type": "markdown",
   "metadata": {
    "collapsed": true
   },
   "source": [
    "1. 关系数据库存储-MySQL为例\n",
    "2. 爬虫配合MySQL存储\n",
    "3. 分布式数据存储-NoSQL数据库\n",
    "4. 爬虫配合mongoDB存储\n",
    "5. HDFS简介\n",
    "6. 爬虫爬取入库案例"
   ]
  },
  {
   "cell_type": "markdown",
   "metadata": {},
   "source": [
    "- 引子"
   ]
  },
  {
   "cell_type": "markdown",
   "metadata": {},
   "source": [
    "![](./dataTm/work_pic/joke.png)"
   ]
  },
  {
   "cell_type": "markdown",
   "metadata": {
    "collapsed": true
   },
   "source": [
    "## 1.关系数据库存储-MySQL为例"
   ]
  },
  {
   "cell_type": "markdown",
   "metadata": {},
   "source": [
    "### 1.1. 关系数据库介绍"
   ]
  },
  {
   "cell_type": "markdown",
   "metadata": {
    "collapsed": true
   },
   "source": [
    "假设你已经（或者有能力）获取大量数据（通过爬取），那么选择何种方式去存储数据非常重要\n",
    "\n",
    "一般而言就爬虫问题，我们可以选择：\n",
    "\n",
    "1. 文本文件的形式保存（比如csv）\n",
    "2. 数据库\n",
    "3. 文件系统\n",
    "\n",
    "第一种\n",
    "\n",
    "- 优势：方便，随时使用，不需要第三方的支持\n",
    "- 劣势：健壮性差，扩展性差\n",
    "\n",
    "第二种\n",
    "\n",
    "- 优势：良好的扩展性，使用广泛\n",
    "- 劣势：（硬要说的话）需要第三方支持，需要进行选择，对技术有一定要求\n",
    "\n",
    "第三种\n",
    "\n",
    "- 更自由，但技术要求会更高\n",
    "\n",
    "\n",
    "当你选择使用**数据库**作为你的爬虫的后端存储方案时，核心的问题是：\n",
    "> 哪种数据库或者组合能够最好解决你的问题？\n",
    "\n",
    "1. 数据库类型\n",
    "\n",
    "  - 关系型，键值型，文档型等等\n",
    "\n",
    "2. 驱动力\n",
    "  \n",
    "  - 实际解决的问题场景\n",
    "  - 关系型：数据库查询的灵活性 > 灵活的模式\n",
    "  - 面向列的数据库：适合存储多机的海量数据\n",
    "  \n",
    "3. 数据库的特性\n",
    "\n",
    "  - 除了CRUD\n",
    "  - 数据库是否有模式\n",
    "  - 数据库是否支持快速索引查找\n",
    "  - 数据库是否支持自由定义的查询\n",
    "  - 数据库是否在查询前必须先进行规划\n",
    "\n",
    "4. 数据库的性能\n",
    "\n",
    "  - 是否方便进行优化\n",
    "  - 是否容易对读写进行优化\n",
    "  - 支不支持分片，复制\n",
    "\n",
    "5. 数据库的伸缩性\n",
    "\n",
    "  - 横向扩展（MongoDB）\n",
    "  - 纵向扩展（PostgreSQL）\n",
    "  \n",
    "\n",
    "说说爬虫：\n",
    "\n",
    "- 一般的数据，基本上都没有问题\n",
    "- 数据变大，数据量和并发都很大的时候\n",
    "\n",
    "    - 关系型数据库容量和读写能力可能会有问题\n",
    "    - 爬虫的信息（一般来说比如文本），一般不需要建立关系\n",
    "    - 爬虫字段经常变化，相对严格模式的关系数据库，NoSQL会更有优势\n",
    "    - 文档型（MongoDB）更加自由\n",
    "    - 容易横向扩展、分片、复制\n",
    "    \n",
    "- 爬虫数据比较脏乱\n",
    "- 有时无法预期数据的字段（先爬下来再说）\n",
    "- NoSQL可以做Map Reduce优化"
   ]
  },
  {
   "cell_type": "markdown",
   "metadata": {},
   "source": [
    "关系数据库：\n",
    "\n",
    "- 以集合理论为基础的系统，实现为具有行和列的二维表\n",
    "- 利用SQL（结构化查询语言）编写查询，与数据库管理系统交互\n",
    "- SQLite, MySQL, PostgreSQL"
   ]
  },
  {
   "cell_type": "markdown",
   "metadata": {},
   "source": [
    "### 1.2. MySQL安装"
   ]
  },
  {
   "cell_type": "markdown",
   "metadata": {},
   "source": [
    "1. 安装MySQL Community Server（或者安装 AppServ）\n",
    "2. 配置路径（第一次安装尽量不要进行配置的更改，设置path，记住root密码）\n",
    "3. 安装Valentina Studio 7（或者MySQL Workbench，Navicat等）客户端工具\n",
    "4. 测试（demo）"
   ]
  },
  {
   "cell_type": "markdown",
   "metadata": {},
   "source": [
    "![](./dataTm/work_pic/mysql_start.png)"
   ]
  },
  {
   "cell_type": "markdown",
   "metadata": {},
   "source": [
    "终端操作：C:\\>mysql -u root –p"
   ]
  },
  {
   "cell_type": "markdown",
   "metadata": {},
   "source": [
    "### 1.3. 基础SQL语句"
   ]
  },
  {
   "cell_type": "code",
   "execution_count": null,
   "metadata": {
    "collapsed": true
   },
   "outputs": [],
   "source": [
    "建立新用户：\n",
    "\n",
    "CREATE USER '用户名'@'localhost' IDENTIFIED BY '密码';"
   ]
  },
  {
   "cell_type": "code",
   "execution_count": null,
   "metadata": {
    "collapsed": true
   },
   "outputs": [],
   "source": [
    "赋权限：\n",
    "\n",
    "GRANT privileges ON DBname.tablename TO '用户名'@'localhost'; \n",
    "GRANT ALL ON *.* TO '用户名'@'localhost';"
   ]
  },
  {
   "cell_type": "code",
   "execution_count": null,
   "metadata": {
    "collapsed": true
   },
   "outputs": [],
   "source": [
    "改密码：\n",
    "\n",
    "SET PASSWORD FOR '用户名'@'localhost' = PASSWORD('新密码');"
   ]
  },
  {
   "cell_type": "code",
   "execution_count": null,
   "metadata": {
    "collapsed": true
   },
   "outputs": [],
   "source": [
    "建立数据库：\n",
    "mysql> CREATE DATABASE testdb1；"
   ]
  },
  {
   "cell_type": "code",
   "execution_count": null,
   "metadata": {
    "collapsed": true
   },
   "outputs": [],
   "source": [
    "显示数据库：\n",
    "SHOW DATABASES;"
   ]
  },
  {
   "cell_type": "code",
   "execution_count": null,
   "metadata": {
    "collapsed": true
   },
   "outputs": [],
   "source": [
    "利用Valentina Studio连接数据库\n",
    "MySQL默认端口：3306"
   ]
  },
  {
   "cell_type": "markdown",
   "metadata": {},
   "source": [
    "![](./dataTm/work_pic/mysql_conn.png)"
   ]
  },
  {
   "cell_type": "code",
   "execution_count": null,
   "metadata": {
    "collapsed": true
   },
   "outputs": [],
   "source": [
    "使用testbd1数据库，查看其中的表格\n",
    "USE testdb1;\n",
    "SHOW TABLES;"
   ]
  },
  {
   "cell_type": "code",
   "execution_count": null,
   "metadata": {
    "collapsed": true
   },
   "outputs": [],
   "source": [
    "建立表格，查看表格：\n",
    "-- 主键约束，唯一性约束\n",
    "\n",
    "CREATE TABLE countries (\n",
    "  country_code CHAR(2) PRIMARY KEY,\n",
    "  country_name varchar(128) UNIQUE\n",
    ");\n",
    "\n",
    "show tables;"
   ]
  },
  {
   "cell_type": "code",
   "execution_count": null,
   "metadata": {
    "collapsed": true
   },
   "outputs": [],
   "source": [
    "插入表格一部分数据：\n",
    "\n",
    "INSERT INTO countries (country_code, country_name)\n",
    "VALUES ('us', 'United States'), ('mx','Mexico'), \n",
    "('au','Australia'), ('gb','United Kingdom'), \n",
    "('de','Germany'), ('ll','Loompaland');\n",
    "\n",
    "select * from countries;"
   ]
  },
  {
   "cell_type": "code",
   "execution_count": null,
   "metadata": {
    "collapsed": true
   },
   "outputs": [],
   "source": [
    "唯一性约束的限制---报错\n",
    "\n",
    "INSERT INTO countries (country_code, country_name)\n",
    "VALUES ('us', 'United States');"
   ]
  },
  {
   "cell_type": "code",
   "execution_count": null,
   "metadata": {
    "collapsed": true
   },
   "outputs": [],
   "source": [
    "删除指定的行：\n",
    "\n",
    "DELETE FROM countries WHERE country_code = 'll';"
   ]
  },
  {
   "cell_type": "code",
   "execution_count": null,
   "metadata": {
    "collapsed": true
   },
   "outputs": [],
   "source": [
    "建立新的表格：\n",
    "-- 外键约束，联合主键，其它约束\n",
    "\n",
    "CREATE TABLE cities(\n",
    "    name  varchar(128) NOT NULL,\n",
    "    postal_code VARCHAR(9) CHECK (postal_code <> ''),\n",
    "    country_code CHAR(2) REFERENCES countries,\n",
    "    PRIMARY KEY (country_code, postal_code)\n",
    ");"
   ]
  },
  {
   "cell_type": "code",
   "execution_count": null,
   "metadata": {
    "collapsed": true
   },
   "outputs": [],
   "source": [
    "插入数据：\n",
    "\n",
    "INSERT INTO cities\n",
    "VALUES ('Portland', '87200', 'us');"
   ]
  },
  {
   "cell_type": "code",
   "execution_count": null,
   "metadata": {
    "collapsed": true
   },
   "outputs": [],
   "source": [
    "更新数据：\n",
    "\n",
    "UPDATE cities\n",
    "SET postal_code = '97205'\n",
    "WHERE name = 'Portland';"
   ]
  },
  {
   "cell_type": "code",
   "execution_count": null,
   "metadata": {
    "collapsed": true
   },
   "outputs": [],
   "source": [
    "联表查询：\n",
    "--inner join\n",
    "\n",
    "\n",
    "SELECT cities.*, country_name\n",
    "FROM cities INNER JOIN countries\n",
    "ON cities.country_code = countries.country_code;"
   ]
  },
  {
   "cell_type": "code",
   "execution_count": null,
   "metadata": {
    "collapsed": true
   },
   "outputs": [],
   "source": [
    "建立新表（为检测复合联接查询）\n",
    "\n",
    "CREATE TABLE venues(\n",
    "    venue_id  int AUTO_INCREMENT PRIMARY KEY,\n",
    "    name VARCHAR(255),\n",
    "    street_address varchar(16),\n",
    "    typev CHAR(8),\n",
    "    postal_code VARCHAR(9),\n",
    "    country_code CHAR(10),\n",
    "    FOREIGN KEY (country_code, postal_code) \n",
    "    REFERENCES cities (country_code, postal_code)  MATCH FULL\n",
    ");\n",
    "\n",
    "DROP TABLE IF EXISTS venues;\n",
    "\n",
    "SELECT * FROM venues;"
   ]
  },
  {
   "cell_type": "code",
   "execution_count": null,
   "metadata": {
    "collapsed": true
   },
   "outputs": [],
   "source": [
    "插入数据\n",
    "进行复合联接\n",
    "\n",
    "INSERT INTO venues (name, postal_code, country_code)\n",
    "VALUES ('crystal ballroom', '97205', 'us');\n",
    "\n",
    "SELECT v.venue_id, v.name, c.name\n",
    "FROM venues v INNER JOIN cities c\n",
    "ON v.postal_code=c.postal_code AND v.country_code = c.country_code;"
   ]
  },
  {
   "cell_type": "markdown",
   "metadata": {
    "collapsed": true
   },
   "source": [
    "-------"
   ]
  },
  {
   "cell_type": "markdown",
   "metadata": {},
   "source": [
    "## 2.爬虫配合MySQL存储"
   ]
  },
  {
   "cell_type": "markdown",
   "metadata": {},
   "source": [
    "### 2.1Python配合MySQL"
   ]
  },
  {
   "cell_type": "markdown",
   "metadata": {},
   "source": [
    "MySQL和Python的连接库：\n",
    "\n",
    "- Python2.x: MySQLdb\n",
    "- Python3.x: \n",
    "  - MySQL Connector/Python(mysql.connector)\n",
    "  - oursql\n",
    "  - pymysql"
   ]
  },
  {
   "cell_type": "markdown",
   "metadata": {},
   "source": [
    "利用conda安装\n",
    "\n",
    "- conda search mysql\n",
    "  - mysql-connector-python\n",
    "  - mysql-python     :2.x\n",
    "  - pymysql\n",
    "  \n",
    "- conda install mysql-connector-python\n",
    "- **conda install pymysql**"
   ]
  },
  {
   "cell_type": "markdown",
   "metadata": {},
   "source": [
    "测试：\n",
    "\n",
    "先连接数据库"
   ]
  },
  {
   "cell_type": "code",
   "execution_count": null,
   "metadata": {
    "collapsed": true
   },
   "outputs": [],
   "source": [
    "# 模板\n",
    "import pymysql\n",
    "# 创建和数据库server的连接\n",
    "conn = pymysql.connect(host='127.0.0.1', port=3306, user='root', passwd='password', db='mysql')\n",
    "# connect(charset='utf8')\n",
    "# cur是一种能从包括多条数据记录的结果中每次提取一条记录的机制\n",
    "# 可以说认为cur就是指针\n",
    "# cur一种临时的数据库对象\n",
    "cur = conn.cursor() \n",
    "#cur.execute(“SQL代码”)\n",
    "#cur.execute(\"CREATE DATABASE shdata\") \n",
    "#cur.execute(\"USE shdata\")\n",
    "cur.close()\n",
    "conn.close()"
   ]
  },
  {
   "cell_type": "code",
   "execution_count": 12,
   "metadata": {
    "collapsed": true
   },
   "outputs": [],
   "source": [
    "cur.close()\n",
    "conn.close()"
   ]
  },
  {
   "cell_type": "code",
   "execution_count": 5,
   "metadata": {
    "collapsed": true
   },
   "outputs": [],
   "source": [
    "# 测试\n",
    "import pymysql\n",
    "conn = pymysql.connect(host = '127.0.0.1', port=3306, user = 'root', passwd = '12345678', db='mysql') \n",
    "cur = conn.cursor()\n",
    "\n",
    "try:\n",
    "    cur.execute(\"DROP DATABASE IF EXISTS shdatabase\") \n",
    "except Exception as e:\n",
    "    print(e) \n",
    "finally:\n",
    "    pass"
   ]
  },
  {
   "cell_type": "code",
   "execution_count": 7,
   "metadata": {},
   "outputs": [
    {
     "data": {
      "text/plain": [
       "0"
      ]
     },
     "execution_count": 7,
     "metadata": {},
     "output_type": "execute_result"
    }
   ],
   "source": [
    "#创建数据库 \n",
    "cur.execute(\"CREATE DATABASE shdatabase1\") \n",
    "cur.execute(\"USE sddatabase\")\n",
    "\n",
    "#创建表\n",
    "cur.execute(\"CREATE TABLE users1 (id INT, name VARCHAR(16))\")\n"
   ]
  },
  {
   "cell_type": "code",
   "execution_count": 10,
   "metadata": {},
   "outputs": [
    {
     "data": {
      "text/plain": [
       "0"
      ]
     },
     "execution_count": 10,
     "metadata": {},
     "output_type": "execute_result"
    }
   ],
   "source": [
    "cur.execute(\"USE shdatabase1\")\n",
    "cur.execute(\"CREATE TABLE users2 (id INT, name VARCHAR(16))\")"
   ]
  },
  {
   "cell_type": "code",
   "execution_count": 1,
   "metadata": {},
   "outputs": [],
   "source": [
    "#插入数据 \n",
    "cur.execute(\"INSERT INTO users2 VALUES(1, ‘alice'),(2, ‘bob'),(3, ‘jack'),(4, ‘rose')\") \n",
    "#'latin-1' codec can't encode character '\\u2018' in position 28: ordinal not in range(256)"
   ]
  },
  {
   "cell_type": "code",
   "execution_count": 13,
   "metadata": {},
   "outputs": [
    {
     "data": {
      "text/plain": [
       "0"
      ]
     },
     "execution_count": 13,
     "metadata": {},
     "output_type": "execute_result"
    }
   ],
   "source": [
    "# 先建立cur，再执行字符设置\n",
    "import pymysql\n",
    "conn = pymysql.connect(host = '127.0.0.1', port=3306, user = 'root', passwd = '12345678', db='mysql') \n",
    "cur = conn.cursor()\n",
    "\n",
    "cur.execute('SET NAMES utf8') \n",
    "cur.execute('SET CHARACTER SET utf8')\n",
    "cur.execute('SET character_set_connection=utf8')"
   ]
  },
  {
   "cell_type": "code",
   "execution_count": 14,
   "metadata": {},
   "outputs": [
    {
     "data": {
      "text/plain": [
       "0"
      ]
     },
     "execution_count": 14,
     "metadata": {},
     "output_type": "execute_result"
    }
   ],
   "source": [
    "# 使用sddatabase数据库\n",
    "cur.execute(\"USE shdatabase1\")"
   ]
  },
  {
   "cell_type": "code",
   "execution_count": 15,
   "metadata": {},
   "outputs": [
    {
     "data": {
      "text/plain": [
       "4"
      ]
     },
     "execution_count": 15,
     "metadata": {},
     "output_type": "execute_result"
    }
   ],
   "source": [
    "#插入数据 （编码解决）\n",
    "#请查看commit的作用\n",
    "cur.execute(\"INSERT INTO users2 VALUES(1, 'alice'),(2, 'bob'),(3, 'jack'),(4, 'rose')\")"
   ]
  },
  {
   "cell_type": "code",
   "execution_count": 16,
   "metadata": {},
   "outputs": [
    {
     "name": "stdout",
     "output_type": "stream",
     "text": [
      "1\talice\n",
      "2\tbob\n",
      "3\tjack\n",
      "4\trose\n"
     ]
    }
   ],
   "source": [
    "#查询 \n",
    "cur.execute(\"SELECT * FROM users2\") \n",
    "for row in cur.fetchall():\n",
    "    print('%s\\t%s'  % row)"
   ]
  },
  {
   "cell_type": "code",
   "execution_count": 17,
   "metadata": {
    "collapsed": true
   },
   "outputs": [],
   "source": [
    "#关闭 \n",
    "cur.close()\n",
    "#表修改或插入数据后commit \n",
    "conn.commit() \n",
    "conn.close()"
   ]
  },
  {
   "cell_type": "markdown",
   "metadata": {},
   "source": [
    "---------"
   ]
  },
  {
   "cell_type": "markdown",
   "metadata": {},
   "source": [
    "### 2.2Python爬虫配合MySQL"
   ]
  },
  {
   "cell_type": "markdown",
   "metadata": {},
   "source": [
    "- 继续小说例子"
   ]
  },
  {
   "cell_type": "code",
   "execution_count": 18,
   "metadata": {
    "collapsed": true
   },
   "outputs": [],
   "source": [
    "import requests\n",
    "import lxml\n",
    "from bs4 import BeautifulSoup\n",
    "import os\n",
    "import pymysql"
   ]
  },
  {
   "cell_type": "code",
   "execution_count": 19,
   "metadata": {
    "collapsed": true
   },
   "outputs": [],
   "source": [
    "def open_url(url):\n",
    "    headers = {'User-Agent':\"Mozilla/5.0 (Windows NT 6.1; Win64; x64) AppleWebKit/537.36 (KHTML, like Gecko) Chrome/56.0.2924.87 Safari/537.36\"}\n",
    "    html = requests.get(url, headers=headers)\n",
    "    html.encoding = 'utf-8'\n",
    "    html = html.text\n",
    "    return html"
   ]
  },
  {
   "cell_type": "code",
   "execution_count": 21,
   "metadata": {
    "collapsed": true
   },
   "outputs": [],
   "source": [
    "conn = pymysql.connect(host='127.0.0.1', \n",
    "                     port=3306, user='root', passwd='12345678',db='mysql',\n",
    "                       use_unicode=True, charset='utf8')"
   ]
  },
  {
   "cell_type": "code",
   "execution_count": 22,
   "metadata": {
    "collapsed": true
   },
   "outputs": [],
   "source": [
    "cur = conn.cursor()"
   ]
  },
  {
   "cell_type": "code",
   "execution_count": 23,
   "metadata": {},
   "outputs": [
    {
     "data": {
      "text/plain": [
       "0"
      ]
     },
     "execution_count": 23,
     "metadata": {},
     "output_type": "execute_result"
    }
   ],
   "source": [
    "cur.execute('SET NAMES utf8') \n",
    "cur.execute('SET CHARACTER SET utf8')\n",
    "cur.execute('SET character_set_connection=utf8')"
   ]
  },
  {
   "cell_type": "code",
   "execution_count": 24,
   "metadata": {},
   "outputs": [
    {
     "data": {
      "text/plain": [
       "0"
      ]
     },
     "execution_count": 24,
     "metadata": {},
     "output_type": "execute_result"
    }
   ],
   "source": [
    "cur.execute(\"USE shdatabase1\")"
   ]
  },
  {
   "cell_type": "code",
   "execution_count": 25,
   "metadata": {},
   "outputs": [
    {
     "data": {
      "text/plain": [
       "0"
      ]
     },
     "execution_count": 25,
     "metadata": {},
     "output_type": "execute_result"
    }
   ],
   "source": [
    "cur.execute('create table wuxia(title varchar(128) ,author varchar(128), href varchar(64))')"
   ]
  },
  {
   "cell_type": "code",
   "execution_count": 26,
   "metadata": {
    "collapsed": true
   },
   "outputs": [],
   "source": [
    "html = open_url('http://wuxia.net.cn/book.html')\n",
    "Soup = BeautifulSoup(html, 'lxml')\n",
    "all_a = Soup.select('td p')\n",
    "all_author = Soup.select('td p span')"
   ]
  },
  {
   "cell_type": "code",
   "execution_count": 27,
   "metadata": {
    "collapsed": true
   },
   "outputs": [],
   "source": [
    "for i in all_a:\n",
    "        title = i.find('a').get_text()\n",
    "        href = i.find('a')['href']\n",
    "        author = i.find('span').get_text()\n",
    "        cur.execute('insert into wuxia values(%s,%s,%s)',[title,author,href])\n",
    "        #cur.execute('insert into wuxia values(%s,%s)',[title,href])\n",
    "        #cur.execute('insert into wuxia values(%s,%s,%s)',[title,href,href])\n",
    "        #print(title, href, author)"
   ]
  },
  {
   "cell_type": "code",
   "execution_count": 28,
   "metadata": {
    "collapsed": true
   },
   "outputs": [],
   "source": [
    "conn.commit()\n",
    "#以下两步把游标与数据库连接都关闭，这也是必须的！\n",
    "cur.close()\n",
    "conn.close()"
   ]
  },
  {
   "cell_type": "markdown",
   "metadata": {},
   "source": [
    "- 整体"
   ]
  },
  {
   "cell_type": "code",
   "execution_count": null,
   "metadata": {
    "collapsed": true
   },
   "outputs": [],
   "source": [
    "import requests\n",
    "import lxml\n",
    "from bs4 import BeautifulSoup\n",
    "import os\n",
    "import pymysql\n",
    "\n",
    "\n",
    "def open_url(url):\n",
    "    headers = {'User-Agent':\"Mozilla/5.0 (Windows NT 6.1; Win64; x64) AppleWebKit/537.36 (KHTML, like Gecko) Chrome/56.0.2924.87 Safari/537.36\"}\n",
    "    html = requests.get(url, headers=headers)\n",
    "    html.encoding = 'utf-8'\n",
    "    html = html.text\n",
    "    return html\n",
    "\n",
    "\n",
    "html = open_url(url)\n",
    "    Soup = BeautifulSoup(html, 'lxml')\n",
    "    all_a = Soup.select('td p')\n",
    "    all_author = Soup.select('td p span')\n",
    "\n",
    "\n",
    "conn = pymysql.connect(host='127.0.0.1', \n",
    "                     port=3306, user='root', passwd='123456',db='mysql',\n",
    "                       use_unicode=True, charset='utf8')\n",
    "\n",
    "cur = conn.cursor()\n",
    "\n",
    "cur.execute('SET NAMES utf8') \n",
    "cur.execute('SET CHARACTER SET utf8')\n",
    "cur.execute('SET character_set_connection=utf8')\n",
    "\n",
    "cur.execute(\"USE SHdatabase\")\n",
    "\n",
    "cur.execute('create table wuxia(title varchar(128) ,author varchar(128), href varchar(64))')\n",
    "\n",
    "for i in all_a:\n",
    "        title = i.find('a').get_text()\n",
    "        href = i.find('a')['href']\n",
    "        author = i.find('span').get_text()\n",
    "        cur.execute('insert into wuxia values(%s,%s,%s)',[title,author,href])\n",
    "        #print(title, href)\n",
    "\n",
    "conn.commit()\n",
    "#以下两步把游标与数据库连接都关闭\n",
    "cur.close()\n",
    "conn.close()\n"
   ]
  },
  {
   "cell_type": "markdown",
   "metadata": {},
   "source": [
    "-------"
   ]
  },
  {
   "cell_type": "markdown",
   "metadata": {},
   "source": [
    "------------"
   ]
  },
  {
   "cell_type": "markdown",
   "metadata": {},
   "source": [
    "## 3.分布式数据存储-NoSQL数据库"
   ]
  },
  {
   "cell_type": "markdown",
   "metadata": {},
   "source": [
    "### 3.1分布式数据存储-NoSQL数据库介绍"
   ]
  },
  {
   "cell_type": "markdown",
   "metadata": {},
   "source": [
    "- SQL：\n",
    "\n",
    "  - 模型是关系型\n",
    "  - 数据被存放在表中\n",
    "  - 适用于每条记录都是相同类型并具有相同属性的情况\n",
    "  - 存储规范需要预定义结构（模式schema）\n",
    "  - 添加新的属性意味着改变整体架构\n",
    "  - ACID事务支持"
   ]
  },
  {
   "cell_type": "markdown",
   "metadata": {},
   "source": [
    "- NoSQL\n",
    "  \n",
    "  - 模型非关系型\n",
    "  - 可以存储JSON、键值对等(取决于NoSQL数据库类型)\n",
    "  - 并不是每条记录都要有相同的结构\n",
    "  - 添加带有新属性的数据时，不会影响其他\n",
    "  - 支持ACID事务，根据使用的NoSQL的数据库而有所不同\n",
    "  - 一致性可以改变\n",
    "  - 横向扩展能力"
   ]
  },
  {
   "cell_type": "markdown",
   "metadata": {},
   "source": [
    "MongoDB是一个面向文档的，开源数据库程序，它平台无关。\n",
    "\n",
    "MongoDB使用JSON结构的文档存储数据。数据非常灵活，不需要的Schema，但是对操作提出了较高的要求"
   ]
  },
  {
   "cell_type": "markdown",
   "metadata": {},
   "source": [
    "--------"
   ]
  },
  {
   "cell_type": "markdown",
   "metadata": {},
   "source": [
    "- 重要特性：\n",
    "\n",
    "  - 支持多种标准查询类型，比如匹配(==), 大小比较(<, >),或者正则表达式\n",
    "  - 可以存储几乎任何类型的数据，无论结构化，部分结构化，甚至是多态\n",
    "  - 对于扩展和处理更多查询，只需添加更多的机器（横向扩展）\n",
    "  - 它是高度灵活和敏捷，让您能够快速开发应用程序\n",
    "  - 可以在单个文档中存储有关模型的所有信息（document based NoSQL database)\n",
    "  - 可以随时更改数据库的Schema\n",
    "  - 许多关系型数据库的功能也可以在MongoDB使用（如索引）\n",
    "  - 作为队列的存储或者实际数据的存储\n",
    "  \n",
    "\n",
    "- 运行方面MongoDB的特点：\n",
    "\n",
    "  - 独立服务器or独立服务器集群，可以根据需要进行扩展\n",
    "  - MongoDB还通过在各个分片上自动移动数据来提供负载均衡支持\n",
    "  - 具有自动故障转移支持，如果主服务器Down掉，新的主服务器将自动启动并运行\n",
    "  - MongoDB的监控和备份基础设施服务\n",
    "  - 由于内存映射文件，节省RAM"
   ]
  },
  {
   "cell_type": "markdown",
   "metadata": {
    "collapsed": true
   },
   "source": [
    "---------"
   ]
  },
  {
   "cell_type": "markdown",
   "metadata": {},
   "source": [
    "### 3.2 MongoDB安装"
   ]
  },
  {
   "cell_type": "markdown",
   "metadata": {},
   "source": [
    "- tips：\n",
    "- 官网下载，这里是msi\n",
    "- 直接安装，然后将path放好\n",
    "- C:\\Program Files\\MongoDB\\Server\\3.4\\bin;（因为你要用到mongod）\n",
    "- 启动MongoDB服务之前需要必须创建数据库文件的存放文件夹，否则命令不会自动创建，且不能启动\n",
    "    \n",
    "> e.g.\n",
    "\n",
    "> 建立一个D:\\mongodb\\data\\db\n",
    "\n",
    ">然后开启mongodb的服务：\n",
    "\n",
    ">mongod --dbpath D:\\mongodb\\data\\db\n",
    "            \n",
    "            \n",
    "- 开服务的时候可能会遇到\n",
    "\"丢失api-ms-win-crt-runtime-l1-1-0.dll的提示，可通过运行vc_redist.2015.exe的方式解决\"\n"
   ]
  },
  {
   "cell_type": "markdown",
   "metadata": {},
   "source": [
    "![](./dataTm/work_pic/mongodb_start.png)"
   ]
  },
  {
   "cell_type": "markdown",
   "metadata": {},
   "source": [
    "启动mongo命令行：\n",
    "\n",
    "> mongo newdb\n",
    "\n",
    "> show dbs\n",
    "\n",
    "> use yourdb\n"
   ]
  },
  {
   "cell_type": "markdown",
   "metadata": {},
   "source": [
    "### 3.3 MongoDB使用"
   ]
  },
  {
   "cell_type": "markdown",
   "metadata": {
    "collapsed": true
   },
   "source": [
    "利用工具：Robomongo(图形化操作)\n",
    "\n",
    "1. 建立一个连接\n",
    "2. 然后进行操作\n",
    "\n",
    "名词比较：\n",
    "\n",
    "SQL:MongoDB:解释\n",
    "\n",
    "database:database:数据库\n",
    "\n",
    "table:collection:表/集合\n",
    "\n",
    "row:document:数据行/文档\n",
    "\n",
    "primary key:primary key\t主键/MongoDB自动将_id字段设置为主键"
   ]
  },
  {
   "cell_type": "markdown",
   "metadata": {
    "collapsed": true
   },
   "source": [
    "注意:\n",
    "\n",
    "**在mongo中创建一个collection,只需要在该collection中插入第一条记录。由于mongo没有模式，不需要预先定义模式（比如create），可以直接使用。而且，就算你建立了一个新的collection，比如mongo book，你不插入数据，这个collection其实并不存在。**"
   ]
  },
  {
   "cell_type": "code",
   "execution_count": null,
   "metadata": {
    "collapsed": true
   },
   "outputs": [],
   "source": [
    "# 命令行下：\n",
    "> mongo newdb\n",
    "> db.towns.insert({\n",
    "    name: \"New York\",\n",
    "    population: 2220000,\n",
    "    last_census: ISODate(\"2009-07-31\"),\n",
    "    famous_for: [\"status of liberty\", \"food\"],\n",
    "    mayor: {\n",
    "    name: \"Jack\",\n",
    "    party: \"I\"\n",
    "    }\n",
    "    })"
   ]
  },
  {
   "cell_type": "code",
   "execution_count": null,
   "metadata": {
    "collapsed": true
   },
   "outputs": [],
   "source": [
    "show collections"
   ]
  },
  {
   "cell_type": "code",
   "execution_count": null,
   "metadata": {
    "collapsed": true
   },
   "outputs": [],
   "source": [
    "db.towns.find()"
   ]
  },
  {
   "cell_type": "markdown",
   "metadata": {},
   "source": [
    "![](./dataTm/work_pic/mongo_id.png)"
   ]
  },
  {
   "cell_type": "markdown",
   "metadata": {},
   "source": [
    "- _id字段，类似MySQL中自增产生的数字主键\n",
    "- 由时间戳、客户端机器ID、客户端进程ID和3字节的增量计数器组成\n",
    "- 优势：每台计算机上的每个进程都能够处理自己的ID生成，不会与其他mongod实例发生冲突\n",
    "\n",
    "（思考：Mongo的分布式特征）"
   ]
  },
  {
   "cell_type": "code",
   "execution_count": null,
   "metadata": {
    "collapsed": true
   },
   "outputs": [],
   "source": [
    ">db.help()\n",
    ">db.towns.help()\n",
    "母语：JavaScript\n",
    "db：JavaScript对象，包含当前数据库的有关信息\n",
    "db.collection名\n",
    "Mongo中，命令就是JavaScript函数\n",
    ">typeof db\n",
    ">typeof db.towns\n",
    ">typeof db.towns.insert"
   ]
  },
  {
   "cell_type": "markdown",
   "metadata": {},
   "source": [
    "```javascript\n",
    "\n",
    "function insertCity(name, population, last_census,famous_for,mayor_info){\n",
    "db.towns.insert({\n",
    "    name: name,\n",
    "    population: population,\n",
    "    last_census: ISODate(last_census),\n",
    "    famous_for: famous_for,\n",
    "    mayor: mayor_info\n",
    "    });\n",
    "}\n",
    "\n",
    "```"
   ]
  },
  {
   "cell_type": "code",
   "execution_count": null,
   "metadata": {
    "collapsed": true
   },
   "outputs": [],
   "source": [
    "insertCity(\"Punxsutawney\", 6200, '2008-31-01', [\"phil the groundhog\"], {name: \"Jim\"})\n",
    "insertCity(\"Portland\", 52800, '2007-31-01', [\"beer\",\"food\"], {name: \"Sam\"})"
   ]
  },
  {
   "cell_type": "code",
   "execution_count": null,
   "metadata": {
    "collapsed": true
   },
   "outputs": [],
   "source": [
    "db.towns.find()"
   ]
  },
  {
   "cell_type": "code",
   "execution_count": null,
   "metadata": {
    "collapsed": true
   },
   "outputs": [],
   "source": [
    "db.towns.find({\"_id\": ObjectId(\"58f22ba4387761c02c7bcdaa\")})"
   ]
  },
  {
   "cell_type": "code",
   "execution_count": null,
   "metadata": {
    "collapsed": true
   },
   "outputs": [],
   "source": [
    "只查name，相当于name 为true\n",
    "db.towns.find({\"_id\": ObjectId(\"58f22ba4387761c02c7bcdaa\")}, {name:1})"
   ]
  },
  {
   "cell_type": "code",
   "execution_count": null,
   "metadata": {
    "collapsed": true
   },
   "outputs": [],
   "source": [
    "不用特定的查询语言，查询必须符合JavaScript的语法规则"
   ]
  },
  {
   "cell_type": "code",
   "execution_count": null,
   "metadata": {
    "collapsed": true
   },
   "outputs": [],
   "source": [
    "db.towns.find(\n",
    "{famous_for:'food'},\n",
    "{_id:0, name:1, famous_for:1}\n",
    "\n",
    "    )"
   ]
  },
  {
   "cell_type": "code",
   "execution_count": null,
   "metadata": {
    "collapsed": true
   },
   "outputs": [],
   "source": [
    "db.towns.update(\n",
    "{_id:ObjectId(\"58f22ba4387761c02c7bcdaa\")},\n",
    "{$set: {\"state\": \"OR\"}}\n",
    ");"
   ]
  },
  {
   "cell_type": "code",
   "execution_count": null,
   "metadata": {
    "collapsed": true
   },
   "outputs": [],
   "source": [
    "# 带不带Sset的区别\n",
    "\n",
    "db.towns.update(\n",
    "{_id:ObjectId(\"58f22ba4387761c02c7bcdaa\")},\n",
    "{state: \"OR\"}\n",
    ");"
   ]
  },
  {
   "cell_type": "code",
   "execution_count": null,
   "metadata": {
    "collapsed": true
   },
   "outputs": [],
   "source": [
    "db.towns.remove({\"_id\": ObjectId(\"58f22ba4387761c02c7bcdaa\")}, {name:0})"
   ]
  },
  {
   "cell_type": "markdown",
   "metadata": {
    "collapsed": true
   },
   "source": [
    "--------"
   ]
  },
  {
   "cell_type": "markdown",
   "metadata": {},
   "source": [
    "## 4.爬虫配合mongoDB存储"
   ]
  },
  {
   "cell_type": "markdown",
   "metadata": {},
   "source": [
    "### 4.1 MongoDB配合python使用"
   ]
  },
  {
   "cell_type": "code",
   "execution_count": 2,
   "metadata": {
    "collapsed": true
   },
   "outputs": [],
   "source": [
    "import pymongo"
   ]
  },
  {
   "cell_type": "markdown",
   "metadata": {},
   "source": [
    "在python中使用MongoDB，需要一个驱动\n",
    "\n",
    "MongoDB开发者发布的官方驱动程序PyMongo"
   ]
  },
  {
   "cell_type": "markdown",
   "metadata": {},
   "source": [
    "安装:conda install pymongo"
   ]
  },
  {
   "cell_type": "code",
   "execution_count": 29,
   "metadata": {
    "collapsed": true
   },
   "outputs": [],
   "source": [
    "import pymongo"
   ]
  },
  {
   "cell_type": "code",
   "execution_count": 30,
   "metadata": {
    "collapsed": true
   },
   "outputs": [],
   "source": [
    "#建立连接：\n",
    "from pymongo import MongoClient\n",
    "client = MongoClient()\n",
    "#client = MongoClient('localhost', 27017)\n",
    "#client = MongoClient('mongodb://localhost:27017')"
   ]
  },
  {
   "cell_type": "code",
   "execution_count": 31,
   "metadata": {
    "collapsed": true
   },
   "outputs": [],
   "source": [
    "#访问数据库\n",
    "db = client.newdb\n",
    "#db = client['pymongo_test']\n",
    "#不管有没有，自动建立"
   ]
  },
  {
   "cell_type": "code",
   "execution_count": 32,
   "metadata": {},
   "outputs": [
    {
     "name": "stdout",
     "output_type": "stream",
     "text": [
      "插入一条记录: 58fc6d4437658e1f7cfe1c2e\n"
     ]
    }
   ],
   "source": [
    "#插入文档\n",
    "posts = db.posts\n",
    "post_data = {\n",
    "    'title': 'Python and MongoDB',\n",
    "    'content': 'PyMongo is fun',\n",
    "    'author': 'jack'\n",
    "}\n",
    "result = posts.insert_one(post_data)\n",
    "print('插入一条记录: {0}'.format(result.inserted_id))\n",
    "# ServerSelectionTimeoutError: localhost:27017: [WinError 10061] 由于目标计算机积极拒绝，无法连接。"
   ]
  },
  {
   "cell_type": "code",
   "execution_count": 53,
   "metadata": {},
   "outputs": [
    {
     "name": "stdout",
     "output_type": "stream",
     "text": [
      "插入一条记录: 58f46ab8da90b0069c05eb66\n"
     ]
    }
   ],
   "source": [
    "#插入文档\n",
    "posts = db.posts\n",
    "post_data = {\n",
    "    'title': 'Python and MongoDB',\n",
    "    'content': 'PyMongo is fun',\n",
    "    'author': 'jack'\n",
    "}\n",
    "result = posts.insert_one(post_data)\n",
    "print('插入一条记录: {0}'.format(result.inserted_id))"
   ]
  },
  {
   "cell_type": "code",
   "execution_count": 33,
   "metadata": {},
   "outputs": [
    {
     "name": "stdout",
     "output_type": "stream",
     "text": [
      "插入多条: [ObjectId('58fc6d6d37658e1f7cfe1c2f'), ObjectId('58fc6d6d37658e1f7cfe1c30'), ObjectId('58fc6d6d37658e1f7cfe1c31')]\n"
     ]
    }
   ],
   "source": [
    "#同时插入多组\n",
    "post_1 = {\n",
    "    'title': 'Python and MongoDB',\n",
    "    'content': 'PyMongo is fun',\n",
    "    'author': 'jack'\n",
    "}\n",
    "post_2 = {\n",
    "    'title': 'Virtual Environments',\n",
    "    'content': 'Use virtual environments',\n",
    "    'author': 'alice'\n",
    "}\n",
    "post_3 = {\n",
    "    'title': 'Learning Python',\n",
    "    'content': 'Learn Python, 从入门到放弃',\n",
    "    'author': 'alice'\n",
    "}\n",
    "new_result = posts.insert_many([post_1, post_2, post_3])\n",
    "print('插入多条: {0}'.format(new_result.inserted_ids))"
   ]
  },
  {
   "cell_type": "code",
   "execution_count": 55,
   "metadata": {},
   "outputs": [
    {
     "name": "stdout",
     "output_type": "stream",
     "text": [
      "{'content': 'PyMongo is fun', 'title': 'Python and MongoDB', '_id': ObjectId('58f46ab8da90b0069c05eb66'), 'author': 'jack'}\n"
     ]
    }
   ],
   "source": [
    "#查找\n",
    "bills_post = posts.find_one({'author': 'jack'})\n",
    "print(bills_post)"
   ]
  },
  {
   "cell_type": "code",
   "execution_count": 57,
   "metadata": {},
   "outputs": [
    {
     "name": "stdout",
     "output_type": "stream",
     "text": [
      "<pymongo.cursor.Cursor object at 0x0000000007A18710>\n"
     ]
    }
   ],
   "source": [
    "#查找多条\n",
    "alice_posts = posts.find({'author': 'alice'})\n",
    "print(alice_posts)"
   ]
  },
  {
   "cell_type": "code",
   "execution_count": 58,
   "metadata": {},
   "outputs": [
    {
     "name": "stdout",
     "output_type": "stream",
     "text": [
      "{'content': 'Use virtual environments', 'title': 'Virtual Environments', '_id': ObjectId('58f46b02da90b0069c05eb68'), 'author': 'alice'}\n",
      "{'content': 'Use virtual environments', 'title': 'Virtual Environments', '_id': ObjectId('58f46b22da90b0069c05eb6b'), 'author': 'alice'}\n",
      "{'content': 'Learn Python, 从入门到放弃', 'title': 'Learning Python', '_id': ObjectId('58f46b22da90b0069c05eb6c'), 'author': 'alice'}\n"
     ]
    }
   ],
   "source": [
    "#查找多条\n",
    "for post in alice_posts:\n",
    "    print(post)"
   ]
  },
  {
   "cell_type": "markdown",
   "metadata": {},
   "source": [
    "- ref:\n",
    "\n",
    "- https://docs.mongodb.com/manual/core/document/\n",
    "\n",
    "- https://realpython.com/blog/python/introduction-to-mongodb-and-python/"
   ]
  },
  {
   "cell_type": "markdown",
   "metadata": {},
   "source": [
    "### 4.2 MongoDB配合python爬虫使用"
   ]
  },
  {
   "cell_type": "markdown",
   "metadata": {},
   "source": [
    "<hr>"
   ]
  },
  {
   "cell_type": "markdown",
   "metadata": {},
   "source": [
    "- 案例分析（I-1）"
   ]
  },
  {
   "cell_type": "code",
   "execution_count": 34,
   "metadata": {
    "collapsed": true
   },
   "outputs": [],
   "source": [
    "from bs4 import BeautifulSoup\n",
    "import re\n",
    "import requests\n",
    "from lxml import etree\n",
    "import pymongo\n",
    "\n",
    "def getpages(url, total):\n",
    "    currpage = int(re.search('(\\d+)', url, re.S).group(0))\n",
    "    urls = []\n",
    "    for i in range(currpage, total + 1):\n",
    "        link = re.sub('(\\d+)', '%s' % i, url, re.S)\n",
    "        urls.append(link)\n",
    "    return urls"
   ]
  },
  {
   "cell_type": "code",
   "execution_count": 35,
   "metadata": {
    "collapsed": true
   },
   "outputs": [],
   "source": [
    "def saveinfo(book_name, book_author):\n",
    "    connection = pymongo.MongoClient()\n",
    "    BookDB = connection.BookDB\n",
    "    BookTable = BookDB.books\n",
    "    \n",
    "    length = len(book_name)\n",
    "    \n",
    "    for i in range(0, length):\n",
    "        books = {}\n",
    "        books['name'] = str(book_name[i]).replace('\\n','')\n",
    "        books['author'] = str(book_author[i]).replace('\\n','')\n",
    "        BookTable.insert_one(books)"
   ]
  },
  {
   "cell_type": "code",
   "execution_count": 36,
   "metadata": {
    "collapsed": true
   },
   "outputs": [],
   "source": [
    "def spider(url, total):\n",
    "    urls = getpages(url, total)\n",
    "    for url in urls:\n",
    "        html = requests.get(url)\n",
    "        selector = etree.HTML(html.text)\n",
    "        book_name = selector.xpath('//*[@id=\"container\"]/ul/li//div/div[2]/a/text()')\n",
    "        book_author = selector.xpath('//*[@id=\"container\"]/ul/li//div/div[2]/div/a/text()')\n",
    "        saveinfo(book_name, book_author)"
   ]
  },
  {
   "cell_type": "code",
   "execution_count": 128,
   "metadata": {
    "collapsed": true
   },
   "outputs": [],
   "source": [
    "#url = \"http://readfree.me/psyche/?page=1\"\n",
    "#spider(url, 5)"
   ]
  },
  {
   "cell_type": "markdown",
   "metadata": {},
   "source": [
    "- 案例分析（I-2）"
   ]
  },
  {
   "cell_type": "code",
   "execution_count": 135,
   "metadata": {
    "collapsed": true
   },
   "outputs": [],
   "source": [
    "def spider(url, total):\n",
    "    urls = getpages(url, total)\n",
    "    for url in urls:\n",
    "        html = requests.get(url)\n",
    "        bs = BeautifulSoup(html.text, \"lxml\")\n",
    "        bookauthors = bs.select('div[class=\"book-author\"]')\n",
    "        book_author = []\n",
    "        for bookauthor in bookauthors:\n",
    "            a = bookauthor.getText()\n",
    "            if (len(a) == 2):\n",
    "                a = 'xxx'\n",
    "            book_author.append(a)\n",
    "            \n",
    "        booknames = bs.select('div[class=\"book-info\"]')\n",
    "        book_name = []\n",
    "        for bookname in booknames:\n",
    "            a = bookname.getText()\n",
    "            if (len(a) == 2):\n",
    "                a = 'xxx'\n",
    "            book_name.append(a)\n",
    "    \n",
    "        saveinfo(book_name, book_author)"
   ]
  },
  {
   "cell_type": "code",
   "execution_count": 136,
   "metadata": {
    "collapsed": true
   },
   "outputs": [],
   "source": [
    "url = \"http://readfree.me/psyche/?page=1\"\n",
    "spider(url, 5)"
   ]
  },
  {
   "cell_type": "code",
   "execution_count": 132,
   "metadata": {},
   "outputs": [
    {
     "name": "stdout",
     "output_type": "stream",
     "text": [
      "20\n",
      "19\n"
     ]
    }
   ],
   "source": [
    "# 发现错误\n",
    "url = 'http://readfree.me/psyche/?page=1'\n",
    "html = requests.get(url)\n",
    "selector = etree.HTML(html.text)\n",
    "book_name = selector.xpath('//*[@id=\"container\"]/ul/li//div/div[2]/a/text()')\n",
    "book_author = selector.xpath('//*[@id=\"container\"]/ul/li//div/div[2]/div/a/text()')\n",
    "print(len(book_name))\n",
    "print(len(book_author))"
   ]
  },
  {
   "cell_type": "code",
   "execution_count": 134,
   "metadata": {
    "collapsed": true
   },
   "outputs": [],
   "source": [
    "# 检测错误\n",
    "url = 'http://readfree.me/psyche/?page=1'\n",
    "html = requests.get(url)\n",
    "bs = BeautifulSoup(html.text, \"lxml\")\n",
    "booknames = bs.select('div[class=\"book-author\"]')\n",
    "#print(booknames)\n",
    "#book_name = []\n",
    "for bookname in booknames:\n",
    "    pass\n",
    "    #print(bookname.getText())\n",
    "    #print(len(bookname.getText()))"
   ]
  },
  {
   "cell_type": "markdown",
   "metadata": {},
   "source": [
    "- 案例分析（I-3）"
   ]
  },
  {
   "cell_type": "code",
   "execution_count": null,
   "metadata": {
    "collapsed": true
   },
   "outputs": [],
   "source": [
    "# 解决方案\n",
    "import re\n",
    "from lxml import etree\n",
    "import requests\n",
    "\n",
    "url = 'http://readfree.me/psyche/?page=1'\n",
    "html = requests.get(url)\n",
    "selector = etree.HTML(html.text)\n",
    "book_name = selector.xpath('//*[@id=\"container\"]/ul/li//div/div[2]/a/text()')\n",
    "book_author = re.findall('23\">(.*?)</a>', html.text)\n",
    "#book_author = selector.xpath('//*[@id=\"container\"]/ul/li//div/div[2]/div/a/text()')\n",
    "#names = re.findall('alt=(.*?)/>', html.text)\n",
    "#names = re.findall('<a class=\"pjax\" href=\"/book/\\d*?/\">([\\s\\S]*?)</a>', html.text)\n",
    "print(len(book_name))\n",
    "print(len(book_author))"
   ]
  },
  {
   "cell_type": "markdown",
   "metadata": {
    "collapsed": true
   },
   "source": [
    "tips:\n",
    "\n",
    "在xpath或者css 选择器不能很好的进行信息抽取时，可以利用正则表达式\n",
    "\n",
    "而且往往正则表达式能够给出最好的方案和性能，只是进阶有一些学习成本"
   ]
  },
  {
   "cell_type": "markdown",
   "metadata": {
    "collapsed": true
   },
   "source": [
    "--------------------"
   ]
  },
  {
   "cell_type": "markdown",
   "metadata": {},
   "source": [
    "- 案例分析（II）"
   ]
  },
  {
   "cell_type": "markdown",
   "metadata": {},
   "source": [
    "针对Ajax异步加载，发现json数据，可以直接入库"
   ]
  },
  {
   "cell_type": "code",
   "execution_count": 37,
   "metadata": {
    "collapsed": true
   },
   "outputs": [],
   "source": [
    "import requests"
   ]
  },
  {
   "cell_type": "code",
   "execution_count": 38,
   "metadata": {
    "collapsed": true
   },
   "outputs": [],
   "source": [
    "url = 'http://www.guokr.com/scientific/'\n",
    "# 和花瓣的区别，不用找link，直接把json数据入库"
   ]
  },
  {
   "cell_type": "code",
   "execution_count": 39,
   "metadata": {},
   "outputs": [
    {
     "name": "stdout",
     "output_type": "stream",
     "text": [
      "dict_keys(['total', 'limit', 'now', 'offset', 'ok', 'result'])\n",
      "{'minisite': {'date_created': '2010-10-20T16:20:44+08:00', 'icon': 'http://3.im.guokr.com/5xjuxoJWksTNiljSjKy-q7mKJDn3DYm7aHZetMDKj-BuAAAAWgAAAEpQ.jpg', 'key': 'microsf', 'introduction': '通过科学抵达的魔法世界，带你领略科学幻想维度', 'url': 'http://www.guokr.com/site/microsf/', 'name': '微科幻'}, 'authors': [{'gender': 'male', 'master_category': 'personal', 'is_exists': True, 'amended_reliability': '0', 'url': 'http://www.guokr.com/i/1248922694/', 'is_title_authorized': True, 'avatar': {'small': 'http://1.im.guokr.com/2rLrV81nV3ZMOJK93aPNhPJWoVHWk_84XlBl7LL3-vugAAAAoAAAAEpQ.jpg?imageView2/1/w/24/h/24', 'large': 'http://1.im.guokr.com/2rLrV81nV3ZMOJK93aPNhPJWoVHWk_84XlBl7LL3-vugAAAAoAAAAEpQ.jpg?imageView2/1/w/160/h/160', 'normal': 'http://1.im.guokr.com/2rLrV81nV3ZMOJK93aPNhPJWoVHWk_84XlBl7LL3-vugAAAAoAAAAEpQ.jpg?imageView2/1/w/48/h/48'}, 'nickname': 'Articdoctor', 'followers_count': 1121, 'resource_url': 'http://apis.guokr.com/community/user/knkqx2.json', 'title': '骨科学博士生，吉他/爵士鼓爱好者', 'ukey': 'knkqx2'}, {'gender': 'male', 'master_category': 'normal', 'is_exists': True, 'amended_reliability': '0', 'url': 'http://www.guokr.com/i/0788898576/', 'is_title_authorized': False, 'avatar': {'small': 'http://1.im.guokr.com/zSUJoJtPQ-PvI5q4yIMBhYj-w3yke_Mlof5yZDt2ZsKgAAAAoAAAAEpQ.jpg?imageView2/1/w/24/h/24', 'large': 'http://1.im.guokr.com/zSUJoJtPQ-PvI5q4yIMBhYj-w3yke_Mlof5yZDt2ZsKgAAAAoAAAAEpQ.jpg?imageView2/1/w/160/h/160', 'normal': 'http://1.im.guokr.com/zSUJoJtPQ-PvI5q4yIMBhYj-w3yke_Mlof5yZDt2ZsKgAAAAoAAAAEpQ.jpg?imageView2/1/w/48/h/48'}, 'nickname': 'Lyroat', 'followers_count': 245, 'resource_url': 'http://apis.guokr.com/community/user/d1ou1c.json', 'title': '地球物理专业，果壳实验室成员', 'ukey': 'd1ou1c'}], 'replies_count': 30, 'url': 'http://www.guokr.com/article/442039/', 'preface': '', 'is_replyable': True, 'copyright': 'owned_by_guokr', 'subject_key': 'sci-fiction', 'author': {'gender': 'male', 'master_category': 'personal', 'is_exists': True, 'amended_reliability': '0', 'url': 'http://www.guokr.com/i/1248922694/', 'is_title_authorized': True, 'avatar': {'small': 'http://1.im.guokr.com/2rLrV81nV3ZMOJK93aPNhPJWoVHWk_84XlBl7LL3-vugAAAAoAAAAEpQ.jpg?imageView2/1/w/24/h/24', 'large': 'http://1.im.guokr.com/2rLrV81nV3ZMOJK93aPNhPJWoVHWk_84XlBl7LL3-vugAAAAoAAAAEpQ.jpg?imageView2/1/w/160/h/160', 'normal': 'http://1.im.guokr.com/2rLrV81nV3ZMOJK93aPNhPJWoVHWk_84XlBl7LL3-vugAAAAoAAAAEpQ.jpg?imageView2/1/w/48/h/48'}, 'nickname': 'Articdoctor', 'followers_count': 1121, 'resource_url': 'http://apis.guokr.com/community/user/knkqx2.json', 'title': '骨科学博士生，吉他/爵士鼓爱好者', 'ukey': 'knkqx2'}, 'ukey_author': 'knkqx2', 'channel_keys': [], 'is_author_external': False, 'id': 442039, 'date_published': '2017-03-02T10:07:14.823041+08:00', 'recommends_count': 0, 'small_image': 'http://1.im.guokr.com/W0CC90Fml76yymKZBmOyogL1cCPWtqFEhm-lNE9t50WSAQAA6wAAAEpQ.jpg', 'image_info': {'height': 235, 'url': 'http://1.im.guokr.com/W0CC90Fml76yymKZBmOyogL1cCPWtqFEhm-lNE9t50WSAQAA6wAAAEpQ.jpg', 'width': 402}, 'image_description': '', 'summary': '通过医学或技术手段，想成为金刚狼已经不在话下了。', 'minisite_key': 'microsf', 'image': '', 'date_modified': '2017-03-01T16:05:22.121237+08:00', 'date_created': '2017-03-02T10:07:14.823041+08:00', 'title_hide': '想和金刚狼一样钢筋铁骨？你有两条路可以选', 'channels': [], 'tags': [], 'is_show_summary': False, 'title': '想和金刚狼一样钢筋铁骨？你有两条路可以选', 'subject': {'date_created': '2014-05-23T16:22:09.282129+08:00', 'url': 'http://www.guokr.com/scientific/subject/sci-fiction/', 'articles_count': 508, 'key': 'sci-fiction', 'name': '科幻'}, 'resource_url': 'http://apis.guokr.com/minisite/article/442039.json'}\n",
      "{'minisite': {'date_created': '2010-10-20T16:20:44+08:00', 'icon': 'http://3.im.guokr.com/wUTGS9coWHVZatYqlPTFGo1ig-2JKzSeLNm1FHweYXRuAAAAWgAAAEpQ.jpg', 'key': 'sciblog', 'introduction': '科学与思考是人类前进的两只脚，协同一致，我们才能真正进步', 'url': 'http://www.guokr.com/site/sciblog/', 'name': '科技评论'}, 'authors': [{'ukey_author': None, 'url': '', 'avatar': 'http://3.im.guokr.com/PjOZYyNi3Anz0qzJJpQJtlDH7aSCavMSz5z_-2xAs-87AAAAPgAAAEpQ.jpg', 'nickname': 'Marina Koren', 'introduction': 'The Atlantic 高级编辑'}], 'replies_count': 41, 'url': 'http://www.guokr.com/article/442038/', 'preface': '', 'is_replyable': True, 'copyright': 'owned_by_guokr', 'subject_key': 'astronomy', 'author': {'url': '', 'avatar': {'small': 'http://3.im.guokr.com/PjOZYyNi3Anz0qzJJpQJtlDH7aSCavMSz5z_-2xAs-87AAAAPgAAAEpQ.jpg', 'large': 'http://3.im.guokr.com/PjOZYyNi3Anz0qzJJpQJtlDH7aSCavMSz5z_-2xAs-87AAAAPgAAAEpQ.jpg', 'normal': 'http://3.im.guokr.com/PjOZYyNi3Anz0qzJJpQJtlDH7aSCavMSz5z_-2xAs-87AAAAPgAAAEpQ.jpg'}, 'nickname': 'Marina Koren', 'introduction': 'The Atlantic 高级编辑'}, 'ukey_author': None, 'channel_keys': ['hot'], 'is_author_external': True, 'id': 442038, 'date_published': '2017-03-01T14:17:24+08:00', 'recommends_count': 5, 'small_image': 'http://3.im.guokr.com/_9ViJdC0fTILL4zis54cf___0uFJCA9DMpyWCcm_HSVKAQAA6wAAAEpQ.jpg', 'image_info': {'height': 235, 'url': 'http://3.im.guokr.com/_9ViJdC0fTILL4zis54cf___0uFJCA9DMpyWCcm_HSVKAQAA6wAAAEpQ.jpg', 'width': 330}, 'image_description': '', 'summary': '插画家如何将 TRAPPIST-1 星系数据信号中的微小尖峰转变为生动的图景。', 'minisite_key': 'sciblog', 'image': '', 'date_modified': '2017-03-01T14:42:08.557662+08:00', 'date_created': '2017-03-01T14:17:24+08:00', 'title_hide': '你看到的系外行星图都是瞎画的……吗？', 'channels': [{'date_created': '2014-05-23T16:22:09.282129+08:00', 'url': 'http://www.guokr.com/scientific/channel/hot/', 'articles_count': 1763, 'key': 'hot', 'name': '热点'}], 'tags': [], 'is_show_summary': False, 'title': '你看到的系外行星图都是瞎画的……吗？', 'subject': {'date_created': '2014-05-23T16:22:09.282129+08:00', 'url': 'http://www.guokr.com/scientific/subject/astronomy/', 'articles_count': 409, 'key': 'astronomy', 'name': '天文'}, 'resource_url': 'http://apis.guokr.com/minisite/article/442038.json'}\n",
      "{'minisite': {'date_created': '2010-10-20T16:20:43+08:00', 'icon': 'http://2.im.guokr.com/gDNaY8kFHIUnyDRLBlb1hWY3fwK9eAuV5icTVSuh7TNuAAAAWgAAAEpQ.jpg', 'key': 'health', 'introduction': '每天的朝九晚五，上几篇健康小文，有趣、靠谱，还很给力', 'url': 'http://www.guokr.com/site/health/', 'name': '健康朝九晚五'}, 'authors': [{'gender': None, 'master_category': 'personal', 'is_exists': True, 'amended_reliability': '0', 'url': 'http://www.guokr.com/i/0242112700/', 'is_title_authorized': True, 'avatar': {'small': 'http://2.im.guokr.com/Dz6_tbUJRATUfBhbccIZStpJdQO-2w31skS8sUfvztigAAAAoAAAAEpQ.jpg?imageView2/1/w/24/h/24', 'large': 'http://2.im.guokr.com/Dz6_tbUJRATUfBhbccIZStpJdQO-2w31skS8sUfvztigAAAAoAAAAEpQ.jpg?imageView2/1/w/160/h/160', 'normal': 'http://2.im.guokr.com/Dz6_tbUJRATUfBhbccIZStpJdQO-2w31skS8sUfvztigAAAAoAAAAEpQ.jpg?imageView2/1/w/48/h/48'}, 'nickname': '阮光锋', 'followers_count': 1231, 'resource_url': 'http://apis.guokr.com/community/user/405bcs.json', 'title': '营养与食品安全硕士', 'ukey': '405bcs'}], 'replies_count': 41, 'url': 'http://www.guokr.com/article/441997/', 'preface': '', 'is_replyable': True, 'copyright': 'owned_by_cooperation', 'subject_key': 'food', 'author': {'gender': None, 'master_category': 'personal', 'is_exists': True, 'amended_reliability': '0', 'url': 'http://www.guokr.com/i/0242112700/', 'is_title_authorized': True, 'avatar': {'small': 'http://2.im.guokr.com/Dz6_tbUJRATUfBhbccIZStpJdQO-2w31skS8sUfvztigAAAAoAAAAEpQ.jpg?imageView2/1/w/24/h/24', 'large': 'http://2.im.guokr.com/Dz6_tbUJRATUfBhbccIZStpJdQO-2w31skS8sUfvztigAAAAoAAAAEpQ.jpg?imageView2/1/w/160/h/160', 'normal': 'http://2.im.guokr.com/Dz6_tbUJRATUfBhbccIZStpJdQO-2w31skS8sUfvztigAAAAoAAAAEpQ.jpg?imageView2/1/w/48/h/48'}, 'nickname': '阮光锋', 'followers_count': 1231, 'resource_url': 'http://apis.guokr.com/community/user/405bcs.json', 'title': '营养与食品安全硕士', 'ukey': '405bcs'}, 'ukey_author': '405bcs', 'channel_keys': [], 'is_author_external': False, 'id': 441997, 'date_published': '2017-02-28T19:59:58.511828+08:00', 'recommends_count': 2, 'small_image': 'http://1.im.guokr.com/22QTcY7boT6FurFVxdAYO3zqiQkAqBReAHpVc8FHUsZKAQAA7AAAAEpQ.jpg', 'image_info': {'height': 236, 'url': 'http://1.im.guokr.com/22QTcY7boT6FurFVxdAYO3zqiQkAqBReAHpVc8FHUsZKAQAA7AAAAEpQ.jpg', 'width': 330}, 'image_description': '', 'summary': '剖开鱼肚子，看到黑乎乎的一层膜？这其实是鱼身体里的正常结构，吃掉也无妨。', 'minisite_key': 'health', 'image': '', 'date_modified': '2017-03-01T15:30:53.337106+08:00', 'date_created': '2017-02-28T19:59:58.511828+08:00', 'title_hide': '鱼肚子里有黑黑的膜？那是正常的！', 'channels': [], 'tags': ['食品安全', '鱼', '食物'], 'is_show_summary': False, 'title': '鱼肚子里有黑黑的膜？那是正常的！', 'subject': {'date_created': '2014-05-23T16:22:09.282129+08:00', 'url': 'http://www.guokr.com/scientific/subject/food/', 'articles_count': 577, 'key': 'food', 'name': '食物'}, 'resource_url': 'http://apis.guokr.com/minisite/article/441997.json'}\n",
      "{'minisite': None, 'authors': [{'gender': 'male', 'master_category': 'normal', 'is_exists': True, 'amended_reliability': '0', 'url': 'http://www.guokr.com/i/1656396354/', 'is_title_authorized': False, 'avatar': {'small': 'http://3.im.guokr.com/pF7EGoVWlBCjBwIB1JqMs_xaNpZgKd4XHnZRGP1TtYWgAAAAoAAAAEpQ.jpg?imageView2/1/w/24/h/24', 'large': 'http://3.im.guokr.com/pF7EGoVWlBCjBwIB1JqMs_xaNpZgKd4XHnZRGP1TtYWgAAAAoAAAAEpQ.jpg?imageView2/1/w/160/h/160', 'normal': 'http://3.im.guokr.com/pF7EGoVWlBCjBwIB1JqMs_xaNpZgKd4XHnZRGP1TtYWgAAAAoAAAAEpQ.jpg?imageView2/1/w/48/h/48'}, 'nickname': '环球科技观光团', 'followers_count': 393, 'resource_url': 'http://apis.guokr.com/community/user/re6blu.json', 'title': '环球科技观光团', 'ukey': 're6blu'}], 'replies_count': 49, 'url': 'http://www.guokr.com/article/442037/', 'preface': '', 'is_replyable': True, 'copyright': 'owned_by_translate', 'subject_key': 'engineering', 'author': {'gender': 'male', 'master_category': 'normal', 'is_exists': True, 'amended_reliability': '0', 'url': 'http://www.guokr.com/i/1656396354/', 'is_title_authorized': False, 'avatar': {'small': 'http://3.im.guokr.com/pF7EGoVWlBCjBwIB1JqMs_xaNpZgKd4XHnZRGP1TtYWgAAAAoAAAAEpQ.jpg?imageView2/1/w/24/h/24', 'large': 'http://3.im.guokr.com/pF7EGoVWlBCjBwIB1JqMs_xaNpZgKd4XHnZRGP1TtYWgAAAAoAAAAEpQ.jpg?imageView2/1/w/160/h/160', 'normal': 'http://3.im.guokr.com/pF7EGoVWlBCjBwIB1JqMs_xaNpZgKd4XHnZRGP1TtYWgAAAAoAAAAEpQ.jpg?imageView2/1/w/48/h/48'}, 'nickname': '环球科技观光团', 'followers_count': 393, 'resource_url': 'http://apis.guokr.com/community/user/re6blu.json', 'title': '环球科技观光团', 'ukey': 're6blu'}, 'ukey_author': 're6blu', 'channel_keys': ['brief'], 'is_author_external': False, 'id': 442037, 'date_published': '2017-02-28T15:49:13+08:00', 'recommends_count': 1, 'small_image': 'http://1.im.guokr.com/VTXJwUtrV_IIrpODqOUBEJxWFY5nhgGOM-zB_7bit7NKAQAA8AAAAEpQ.jpg', 'image_info': {'height': 240, 'url': 'http://1.im.guokr.com/VTXJwUtrV_IIrpODqOUBEJxWFY5nhgGOM-zB_7bit7NKAQAA8AAAAEpQ.jpg', 'width': 330}, 'image_description': '', 'summary': '日本研究员都英次郎用黏上马毛的无人机制造了台“机械蜜蜂”。', 'minisite_key': None, 'image': '', 'date_modified': '2017-02-28T15:49:04.987984+08:00', 'date_created': '2017-02-28T15:49:13+08:00', 'title_hide': '机械蜜蜂能取代正在消亡的真蜜蜂吗？', 'channels': [{'date_created': '2014-05-23T16:22:09.282129+08:00', 'url': 'http://www.guokr.com/scientific/channel/brief/', 'articles_count': 2004, 'key': 'brief', 'name': '速读'}], 'tags': [], 'is_show_summary': False, 'title': '机械蜜蜂能取代正在消亡的真蜜蜂吗？', 'subject': {'date_created': '2014-05-23T16:22:09.282129+08:00', 'url': 'http://www.guokr.com/scientific/subject/engineering/', 'articles_count': 343, 'key': 'engineering', 'name': '工程'}, 'resource_url': 'http://apis.guokr.com/minisite/article/442037.json'}\n",
      "{'minisite': {'date_created': '2010-10-20T16:20:44+08:00', 'icon': 'http://3.im.guokr.com/TPdfxoaxAGOhbhf2mHZsjvnXSCsT8dtGv0ItDjLiAmBuAAAAWgAAAEpQ.jpg', 'key': 'digest', 'introduction': '这里报道最新、最酷的资讯，带你快速了解世界科研一线成就', 'url': 'http://www.guokr.com/site/digest/', 'name': '环球科技观光团'}, 'authors': [{'gender': 'male', 'master_category': 'personal', 'is_exists': True, 'amended_reliability': '0', 'url': 'http://www.guokr.com/i/0281438817/', 'is_title_authorized': True, 'avatar': {'small': 'http://3.im.guokr.com/5DXpIY_QNKVZ1Age08axeMblHDja5GjPGmH7hlzomrmgAAAAoAAAAEpQ.jpg?imageView2/1/w/24/h/24', 'large': 'http://3.im.guokr.com/5DXpIY_QNKVZ1Age08axeMblHDja5GjPGmH7hlzomrmgAAAAoAAAAEpQ.jpg?imageView2/1/w/160/h/160', 'normal': 'http://3.im.guokr.com/5DXpIY_QNKVZ1Age08axeMblHDja5GjPGmH7hlzomrmgAAAAoAAAAEpQ.jpg?imageView2/1/w/48/h/48'}, 'nickname': '秦曾昌', 'followers_count': 10, 'resource_url': 'http://apis.guokr.com/community/user/4nk7kx.json', 'title': '英国布里斯托大学 (University of Bristol) 计算机系硕士， 布里斯托大学工程数学系的人工智能博士。', 'ukey': '4nk7kx'}, {'gender': None, 'master_category': 'normal', 'is_exists': True, 'amended_reliability': '0', 'url': 'http://www.guokr.com/i/1384059076/', 'is_title_authorized': False, 'avatar': {'small': 'http://3.im.guokr.com/_KaIHcEMy-bYxcVgv2NYEX6_JL0LpzAVQ4IHO183DP2gAAAAoAAAAEpQ.jpg?imageView2/1/w/24/h/24', 'large': 'http://3.im.guokr.com/_KaIHcEMy-bYxcVgv2NYEX6_JL0LpzAVQ4IHO183DP2gAAAAoAAAAEpQ.jpg?imageView2/1/w/160/h/160', 'normal': 'http://3.im.guokr.com/_KaIHcEMy-bYxcVgv2NYEX6_JL0LpzAVQ4IHO183DP2gAAAAoAAAAEpQ.jpg?imageView2/1/w/48/h/48'}, 'nickname': 'small_TAO', 'followers_count': 1, 'resource_url': 'http://apis.guokr.com/community/user/mw16tg.json', 'title': '2016北航研究生在读', 'ukey': 'mw16tg'}], 'replies_count': 33, 'url': 'http://www.guokr.com/article/442034/', 'preface': '', 'is_replyable': True, 'copyright': 'owned_by_guokr', 'subject_key': 'electronics', 'author': {'gender': 'male', 'master_category': 'personal', 'is_exists': True, 'amended_reliability': '0', 'url': 'http://www.guokr.com/i/0281438817/', 'is_title_authorized': True, 'avatar': {'small': 'http://3.im.guokr.com/5DXpIY_QNKVZ1Age08axeMblHDja5GjPGmH7hlzomrmgAAAAoAAAAEpQ.jpg?imageView2/1/w/24/h/24', 'large': 'http://3.im.guokr.com/5DXpIY_QNKVZ1Age08axeMblHDja5GjPGmH7hlzomrmgAAAAoAAAAEpQ.jpg?imageView2/1/w/160/h/160', 'normal': 'http://3.im.guokr.com/5DXpIY_QNKVZ1Age08axeMblHDja5GjPGmH7hlzomrmgAAAAoAAAAEpQ.jpg?imageView2/1/w/48/h/48'}, 'nickname': '秦曾昌', 'followers_count': 10, 'resource_url': 'http://apis.guokr.com/community/user/4nk7kx.json', 'title': '英国布里斯托大学 (University of Bristol) 计算机系硕士， 布里斯托大学工程数学系的人工智能博士。', 'ukey': '4nk7kx'}, 'ukey_author': '4nk7kx', 'channel_keys': ['frontier', 'review'], 'is_author_external': False, 'id': 442034, 'date_published': '2017-02-27T13:53:03+08:00', 'recommends_count': 5, 'small_image': 'http://1.im.guokr.com/Cjc4GIL2oG7Bkz_ULDFD3lNZ_04FVu1kh7KQxiDwUB9KAQAA6wAAAEpQ.jpg', 'image_info': {'height': 235, 'url': 'http://1.im.guokr.com/Cjc4GIL2oG7Bkz_ULDFD3lNZ_04FVu1kh7KQxiDwUB9KAQAA6wAAAEpQ.jpg', 'width': 330}, 'image_description': '', 'summary': '随着密码学理论的提升与计算机能力的增强，现代的密码变得越来越复杂，人们开始寻求让机器替代人类的办法。不过这就涉及到一个问题：用0和1思考的“机器大脑”能学会对信息进行加密吗？', 'minisite_key': 'digest', 'image': '', 'date_modified': '2017-02-27T13:52:46.693810+08:00', 'date_created': '2017-02-27T13:53:03+08:00', 'title_hide': 'AI已杀入密码界，密码攻坚不再是人类的专利！', 'channels': [{'date_created': '2014-05-23T16:22:09.282129+08:00', 'url': 'http://www.guokr.com/scientific/channel/frontier/', 'articles_count': 2222, 'key': 'frontier', 'name': '前沿'}, {'date_created': '2014-05-23T16:22:09.282129+08:00', 'url': 'http://www.guokr.com/scientific/channel/review/', 'articles_count': 3555, 'key': 'review', 'name': '评论'}], 'tags': [], 'is_show_summary': False, 'title': 'AI已杀入密码界，密码攻坚不再是人类的专利！', 'subject': {'date_created': '2014-05-23T16:22:09.282129+08:00', 'url': 'http://www.guokr.com/scientific/subject/electronics/', 'articles_count': 765, 'key': 'electronics', 'name': '电子'}, 'resource_url': 'http://apis.guokr.com/minisite/article/442034.json'}\n",
      "{'minisite': {'date_created': '2010-10-20T16:20:44+08:00', 'icon': 'http://3.im.guokr.com/wUTGS9coWHVZatYqlPTFGo1ig-2JKzSeLNm1FHweYXRuAAAAWgAAAEpQ.jpg', 'key': 'sciblog', 'introduction': '科学与思考是人类前进的两只脚，协同一致，我们才能真正进步', 'url': 'http://www.guokr.com/site/sciblog/', 'name': '科技评论'}, 'authors': [{'ukey_author': None, 'url': '', 'avatar': 'http://2.im.guokr.com/TQPT0ncoZcXaSfOpFmi5u349U7CuoMwrjuEheKINhQksAgAADAIAAEpQ.jpg', 'nickname': '张双南', 'introduction': '中科院高能物理所研究员'}], 'replies_count': 26, 'url': 'http://www.guokr.com/article/442036/', 'preface': '', 'is_replyable': True, 'copyright': 'owned_by_guokr', 'subject_key': 'physics', 'author': {'url': '', 'avatar': {'small': 'http://2.im.guokr.com/TQPT0ncoZcXaSfOpFmi5u349U7CuoMwrjuEheKINhQksAgAADAIAAEpQ.jpg', 'large': 'http://2.im.guokr.com/TQPT0ncoZcXaSfOpFmi5u349U7CuoMwrjuEheKINhQksAgAADAIAAEpQ.jpg', 'normal': 'http://2.im.guokr.com/TQPT0ncoZcXaSfOpFmi5u349U7CuoMwrjuEheKINhQksAgAADAIAAEpQ.jpg'}, 'nickname': '张双南', 'introduction': '中科院高能物理所研究员'}, 'ukey_author': None, 'channel_keys': ['review'], 'is_author_external': True, 'id': 442036, 'date_published': '2017-02-27T12:13:54+08:00', 'recommends_count': 3, 'small_image': 'http://1.im.guokr.com/VNCXbCsXZIqpa4VdaM9HBXeGESZBKu_AmPiINPNED29YAgAAkAEAAEpQ.jpg', 'image_info': {'height': 400, 'url': 'http://1.im.guokr.com/VNCXbCsXZIqpa4VdaM9HBXeGESZBKu_AmPiINPNED29YAgAAkAEAAEpQ.jpg', 'width': 600}, 'image_description': '', 'summary': '近期，杨振宁与姚期智教授放弃美国国籍，成为中国科学院院士。在外界纷纷热议杨振宁的归国时，姚期智加入中国国籍其实更值得思考。', 'minisite_key': 'sciblog', 'image': '', 'date_modified': '2017-02-27T12:13:52.026648+08:00', 'date_created': '2017-02-27T12:13:54+08:00', 'title_hide': '都在关心杨振宁，其实姚期智加入中国国籍更值得思考', 'channels': [{'date_created': '2014-05-23T16:22:09.282129+08:00', 'url': 'http://www.guokr.com/scientific/channel/review/', 'articles_count': 3555, 'key': 'review', 'name': '评论'}], 'tags': [], 'is_show_summary': False, 'title': '都在关心杨振宁，其实姚期智加入中国国籍更值得思考', 'subject': {'date_created': '2014-05-23T16:22:09.282129+08:00', 'url': 'http://www.guokr.com/scientific/subject/physics/', 'articles_count': 476, 'key': 'physics', 'name': '物理'}, 'resource_url': 'http://apis.guokr.com/minisite/article/442036.json'}\n",
      "{'minisite': {'date_created': '2010-10-20T16:20:44+08:00', 'icon': 'http://3.im.guokr.com/wUTGS9coWHVZatYqlPTFGo1ig-2JKzSeLNm1FHweYXRuAAAAWgAAAEpQ.jpg', 'key': 'sciblog', 'introduction': '科学与思考是人类前进的两只脚，协同一致，我们才能真正进步', 'url': 'http://www.guokr.com/site/sciblog/', 'name': '科技评论'}, 'authors': [{'ukey_author': None, 'url': '', 'avatar': 'http://2.im.guokr.com/CiT--CdAVJTGazaxkfF8EtO35RSB29-QXbqqlzvzKhSdAAAApwAAAFBO.png', 'nickname': '施郁', 'introduction': '复旦大学物理学系教授'}], 'replies_count': 30, 'url': 'http://www.guokr.com/article/442035/', 'preface': '', 'is_replyable': True, 'copyright': 'owned_by_guokr', 'subject_key': 'physics', 'author': {'url': '', 'avatar': {'small': 'http://2.im.guokr.com/CiT--CdAVJTGazaxkfF8EtO35RSB29-QXbqqlzvzKhSdAAAApwAAAFBO.png', 'large': 'http://2.im.guokr.com/CiT--CdAVJTGazaxkfF8EtO35RSB29-QXbqqlzvzKhSdAAAApwAAAFBO.png', 'normal': 'http://2.im.guokr.com/CiT--CdAVJTGazaxkfF8EtO35RSB29-QXbqqlzvzKhSdAAAApwAAAFBO.png'}, 'nickname': '施郁', 'introduction': '复旦大学物理学系教授'}, 'ukey_author': None, 'channel_keys': ['review'], 'is_author_external': True, 'id': 442035, 'date_published': '2017-02-27T11:25:56+08:00', 'recommends_count': 1, 'small_image': 'http://1.im.guokr.com/TuJr0jH_euDBqha6-aTRmfosv5QFDgLZ8mHkpuN9DiVKAQAA6wAAAEpQ.jpg', 'image_info': {'height': 235, 'url': 'http://1.im.guokr.com/TuJr0jH_euDBqha6-aTRmfosv5QFDgLZ8mHkpuN9DiVKAQAA6wAAAEpQ.jpg', 'width': 330}, 'image_description': '', 'summary': '2012年，90岁的杨振宁收到的一件生日礼物是一个黑色立方体，上平面刻着杜甫诗句“文章千古事，得失寸心知”，而4个垂直平面则从左侧开始顺时针依次刻着他对统计力学、凝聚态物理、粒子物理、场论等物理学4个领域的13项重要贡献。本文将详细介绍杨振宁这13项物理学领域的重要贡献。', 'minisite_key': 'sciblog', 'image': '', 'date_modified': '2017-02-27T11:27:37.499420+08:00', 'date_created': '2017-02-27T11:25:56+08:00', 'title_hide': '物理学之美：杨振宁的13项重要科学贡献', 'channels': [{'date_created': '2014-05-23T16:22:09.282129+08:00', 'url': 'http://www.guokr.com/scientific/channel/review/', 'articles_count': 3555, 'key': 'review', 'name': '评论'}], 'tags': [], 'is_show_summary': False, 'title': '物理学之美：杨振宁的13项重要科学贡献', 'subject': {'date_created': '2014-05-23T16:22:09.282129+08:00', 'url': 'http://www.guokr.com/scientific/subject/physics/', 'articles_count': 476, 'key': 'physics', 'name': '物理'}, 'resource_url': 'http://apis.guokr.com/minisite/article/442035.json'}\n",
      "{'minisite': {'date_created': '2010-10-20T16:20:44+08:00', 'icon': 'http://3.im.guokr.com/wUTGS9coWHVZatYqlPTFGo1ig-2JKzSeLNm1FHweYXRuAAAAWgAAAEpQ.jpg', 'key': 'sciblog', 'introduction': '科学与思考是人类前进的两只脚，协同一致，我们才能真正进步', 'url': 'http://www.guokr.com/site/sciblog/', 'name': '科技评论'}, 'authors': [{'ukey_author': None, 'url': '', 'avatar': 'http://3.im.guokr.com/HBOOmSuCumocHXToXRU_LjrRLj-FKvG0EKSdlwuGFpTTAgAA0wIAAEpQ.jpg', 'nickname': 'Ed Yong', 'introduction': '《大西洋月刊》特约撰稿人，报道科学新闻。'}], 'replies_count': 37, 'url': 'http://www.guokr.com/article/442026/', 'preface': '', 'is_replyable': True, 'copyright': 'owned_by_translate', 'subject_key': 'biology', 'author': {'url': '', 'avatar': {'small': 'http://3.im.guokr.com/HBOOmSuCumocHXToXRU_LjrRLj-FKvG0EKSdlwuGFpTTAgAA0wIAAEpQ.jpg', 'large': 'http://3.im.guokr.com/HBOOmSuCumocHXToXRU_LjrRLj-FKvG0EKSdlwuGFpTTAgAA0wIAAEpQ.jpg', 'normal': 'http://3.im.guokr.com/HBOOmSuCumocHXToXRU_LjrRLj-FKvG0EKSdlwuGFpTTAgAA0wIAAEpQ.jpg'}, 'nickname': 'Ed Yong', 'introduction': '《大西洋月刊》特约撰稿人，报道科学新闻。'}, 'ukey_author': None, 'channel_keys': ['brief'], 'is_author_external': True, 'id': 442026, 'date_published': '2017-02-27T10:45:03+08:00', 'recommends_count': 2, 'small_image': 'http://2.im.guokr.com/i3xotyldMaMynOh1-QMY2QVDDB_Q3bchhGg-zBWgLkhKAQAA8AAAAEpQ.jpg', 'image_info': {'height': 240, 'url': 'http://2.im.guokr.com/i3xotyldMaMynOh1-QMY2QVDDB_Q3bchhGg-zBWgLkhKAQAA8AAAAEpQ.jpg', 'width': 330}, 'image_description': '', 'summary': '在人类测量的生物材料中，蛙类的舌头是最软的之一。蛤蛤的舌头里藏着许多秘密。', 'minisite_key': 'sciblog', 'image': '', 'date_modified': '2017-02-23T16:27:30.906682+08:00', 'date_created': '2017-02-27T10:45:03+08:00', 'title_hide': '为什么蛙类的舌头这么黏？', 'channels': [{'date_created': '2014-05-23T16:22:09.282129+08:00', 'url': 'http://www.guokr.com/scientific/channel/brief/', 'articles_count': 2004, 'key': 'brief', 'name': '速读'}], 'tags': [], 'is_show_summary': False, 'title': '为什么蛙类的舌头这么黏？', 'subject': {'date_created': '2014-05-23T16:22:09.282129+08:00', 'url': 'http://www.guokr.com/scientific/subject/biology/', 'articles_count': 2466, 'key': 'biology', 'name': '生物'}, 'resource_url': 'http://apis.guokr.com/minisite/article/442026.json'}\n",
      "{'minisite': {'date_created': '2010-10-20T16:20:44+08:00', 'icon': 'http://1.im.guokr.com/szAPyph4MN164v0f72VQmTKrP5u6_ADO3iTBqkDYLetuAAAAWgAAAEpQ.jpg', 'key': 'natural', 'introduction': '让我们一起来分享花草树木、鸟兽虫鱼，还有灿烂星河带来的喜悦，以博物精神之名', 'url': 'http://www.guokr.com/site/natural/', 'name': '自然控'}, 'authors': [{'ukey_author': None, 'url': '', 'avatar': 'http://1.im.guokr.com/SJgmti7XMqVAiavZhbGAe4BWi5q89QGPM0rRK1ozsuqQAQAAkAEAAEpQ.jpg', 'nickname': 'Paul Rincon', 'introduction': 'Paul Rincon 为 BBC 新闻网 科学和环境专栏编辑'}], 'replies_count': 17, 'url': 'http://www.guokr.com/article/442032/', 'preface': '', 'is_replyable': True, 'copyright': 'owned_by_translate', 'subject_key': 'environment', 'author': {'url': '', 'avatar': {'small': 'http://1.im.guokr.com/SJgmti7XMqVAiavZhbGAe4BWi5q89QGPM0rRK1ozsuqQAQAAkAEAAEpQ.jpg', 'large': 'http://1.im.guokr.com/SJgmti7XMqVAiavZhbGAe4BWi5q89QGPM0rRK1ozsuqQAQAAkAEAAEpQ.jpg', 'normal': 'http://1.im.guokr.com/SJgmti7XMqVAiavZhbGAe4BWi5q89QGPM0rRK1ozsuqQAQAAkAEAAEpQ.jpg'}, 'nickname': 'Paul Rincon', 'introduction': 'Paul Rincon 为 BBC 新闻网 科学和环境专栏编辑'}, 'ukey_author': None, 'channel_keys': [], 'is_author_external': True, 'id': 442032, 'date_published': '2017-02-24T17:42:57+08:00', 'recommends_count': 1, 'small_image': 'http://1.im.guokr.com/5LcciYy9Tdh7Ly_RD5TLPL-GQ6K19ZJA1ghwxgl5HfVKAQAAugAAAEpQ.jpg', 'image_info': {'height': 186, 'url': 'http://1.im.guokr.com/5LcciYy9Tdh7Ly_RD5TLPL-GQ6K19ZJA1ghwxgl5HfVKAQAAugAAAEpQ.jpg', 'width': 330}, 'image_description': '', 'summary': '在太平洋最深的海底，科学家发现了早在1970年代就已被禁用的化学制品的痕迹。', 'minisite_key': 'natural', 'image': '', 'date_modified': '2017-02-24T17:42:10.891308+08:00', 'date_created': '2017-02-24T17:42:57+08:00', 'title_hide': '全球最深的海沟，也逃不出违禁化学品的污染', 'channels': [], 'tags': [], 'is_show_summary': False, 'title': '全球最深的海沟，也逃不出违禁化学品的污染', 'subject': {'date_created': '2014-05-23T16:22:09.282129+08:00', 'url': 'http://www.guokr.com/scientific/subject/environment/', 'articles_count': 339, 'key': 'environment', 'name': '环境'}, 'resource_url': 'http://apis.guokr.com/minisite/article/442032.json'}\n",
      "{'minisite': {'date_created': '2010-10-20T16:20:44+08:00', 'icon': 'http://2.im.guokr.com/XZp0WOf8kmSXzglg1g8EC2f8Wqy1CjyeSNg0hrFI39NuAAAAWgAAAEpQ.jpg', 'key': 'psybst', 'introduction': '大脑爱偷懒，大脑爱说谎，经验靠不住，实验来帮忙', 'url': 'http://www.guokr.com/site/psybst/', 'name': '心事鉴定组'}, 'authors': [{'ukey_author': None, 'url': '', 'avatar': 'http://1.im.guokr.com/rHWgv6fIJB4o24MY7FaeLe5rCtf81d5W02H7hLIlMpsCAQAAAgEAAFBO.png', 'nickname': 'Sharon Begley', 'introduction': 'Stat资深科学作者'}], 'replies_count': 31, 'url': 'http://www.guokr.com/article/442030/', 'preface': '', 'is_replyable': True, 'copyright': 'owned_by_translate', 'subject_key': 'psychology', 'author': {'url': '', 'avatar': {'small': 'http://1.im.guokr.com/rHWgv6fIJB4o24MY7FaeLe5rCtf81d5W02H7hLIlMpsCAQAAAgEAAFBO.png', 'large': 'http://1.im.guokr.com/rHWgv6fIJB4o24MY7FaeLe5rCtf81d5W02H7hLIlMpsCAQAAAgEAAFBO.png', 'normal': 'http://1.im.guokr.com/rHWgv6fIJB4o24MY7FaeLe5rCtf81d5W02H7hLIlMpsCAQAAAgEAAFBO.png'}, 'nickname': 'Sharon Begley', 'introduction': 'Stat资深科学作者'}, 'ukey_author': None, 'channel_keys': ['review'], 'is_author_external': True, 'id': 442030, 'date_published': '2017-02-24T14:56:52+08:00', 'recommends_count': 7, 'small_image': 'http://3.im.guokr.com/EfEbOvk9qXuGjPgc0qeNl6fGMbJzt-u1dpBdpmA2qUpKAQAA4gAAAEpQ.jpg', 'image_info': {'height': 226, 'url': 'http://3.im.guokr.com/EfEbOvk9qXuGjPgc0qeNl6fGMbJzt-u1dpBdpmA2qUpKAQAA4gAAAEpQ.jpg', 'width': 330}, 'image_description': '', 'summary': '难以抑制地不断查看手机、刷新邮箱、打开网页？这不是病，而是由于我们的大脑不想独处。接入网络可以帮助我们排解焦虑，体会到和世界的连接。', 'minisite_key': 'psybst', 'image': '', 'date_modified': '2017-02-24T14:56:49.626395+08:00', 'date_created': '2017-02-24T14:56:52+08:00', 'title_hide': '网瘾不是病，你的大脑就是这样工作的', 'channels': [{'date_created': '2014-05-23T16:22:09.282129+08:00', 'url': 'http://www.guokr.com/scientific/channel/review/', 'articles_count': 3555, 'key': 'review', 'name': '评论'}], 'tags': [], 'is_show_summary': False, 'title': '网瘾不是病，你的大脑就是这样工作的', 'subject': {'date_created': '2014-05-23T16:22:09.282129+08:00', 'url': 'http://www.guokr.com/scientific/subject/psychology/', 'articles_count': 1272, 'key': 'psychology', 'name': '心理'}, 'resource_url': 'http://apis.guokr.com/minisite/article/442030.json'}\n",
      "{'minisite': {'date_created': '2010-10-20T16:20:44+08:00', 'icon': 'http://3.im.guokr.com/wUTGS9coWHVZatYqlPTFGo1ig-2JKzSeLNm1FHweYXRuAAAAWgAAAEpQ.jpg', 'key': 'sciblog', 'introduction': '科学与思考是人类前进的两只脚，协同一致，我们才能真正进步', 'url': 'http://www.guokr.com/site/sciblog/', 'name': '科技评论'}, 'authors': [{'gender': 'male', 'master_category': 'normal', 'is_exists': True, 'amended_reliability': '0', 'url': 'http://www.guokr.com/i/1596923945/', 'is_title_authorized': False, 'avatar': {'small': 'http://1.im.guokr.com/cC5t4kDTNKqwjNccmQmtwElQUpW0V8P-dxM7-wYJPCWgAAAAoAAAAEpQ.jpg?imageView2/1/w/24/h/24', 'large': 'http://1.im.guokr.com/cC5t4kDTNKqwjNccmQmtwElQUpW0V8P-dxM7-wYJPCWgAAAAoAAAAEpQ.jpg?imageView2/1/w/160/h/160', 'normal': 'http://1.im.guokr.com/cC5t4kDTNKqwjNccmQmtwElQUpW0V8P-dxM7-wYJPCWgAAAAoAAAAEpQ.jpg?imageView2/1/w/48/h/48'}, 'nickname': '深山虫吟', 'followers_count': 589, 'resource_url': 'http://apis.guokr.com/community/user/qermeh.json', 'title': '昆虫学硕士', 'ukey': 'qermeh'}], 'replies_count': 84, 'url': 'http://www.guokr.com/article/442031/', 'preface': '', 'is_replyable': True, 'copyright': 'owned_by_cooperation', 'subject_key': 'biology', 'author': {'gender': 'male', 'master_category': 'normal', 'is_exists': True, 'amended_reliability': '0', 'url': 'http://www.guokr.com/i/1596923945/', 'is_title_authorized': False, 'avatar': {'small': 'http://1.im.guokr.com/cC5t4kDTNKqwjNccmQmtwElQUpW0V8P-dxM7-wYJPCWgAAAAoAAAAEpQ.jpg?imageView2/1/w/24/h/24', 'large': 'http://1.im.guokr.com/cC5t4kDTNKqwjNccmQmtwElQUpW0V8P-dxM7-wYJPCWgAAAAoAAAAEpQ.jpg?imageView2/1/w/160/h/160', 'normal': 'http://1.im.guokr.com/cC5t4kDTNKqwjNccmQmtwElQUpW0V8P-dxM7-wYJPCWgAAAAoAAAAEpQ.jpg?imageView2/1/w/48/h/48'}, 'nickname': '深山虫吟', 'followers_count': 589, 'resource_url': 'http://apis.guokr.com/community/user/qermeh.json', 'title': '昆虫学硕士', 'ukey': 'qermeh'}, 'ukey_author': 'qermeh', 'channel_keys': ['hot', 'brief'], 'is_author_external': False, 'id': 442031, 'date_published': '2017-02-24T14:32:22+08:00', 'recommends_count': 18, 'small_image': 'http://2.im.guokr.com/xeMuswSIAvBju_2AQP1BCfNK10wB4j2NMw1HGFX-qiRKAQAA8AAAAEpQ.jpg', 'image_info': {'height': 240, 'url': 'http://2.im.guokr.com/xeMuswSIAvBju_2AQP1BCfNK10wB4j2NMw1HGFX-qiRKAQAA8AAAAEpQ.jpg', 'width': 330}, 'image_description': '', 'summary': '白蚁背了多少黑锅你们知道吗？白蚁才不是森林杀手，而是森林卫士。', 'minisite_key': 'sciblog', 'image': '', 'date_modified': '2017-02-24T14:25:41.761217+08:00', 'date_created': '2017-02-24T14:32:22+08:00', 'title_hide': '万年被黑的森林卫士——白蚁', 'channels': [{'date_created': '2014-05-23T16:22:09.282129+08:00', 'url': 'http://www.guokr.com/scientific/channel/hot/', 'articles_count': 1763, 'key': 'hot', 'name': '热点'}, {'date_created': '2014-05-23T16:22:09.282129+08:00', 'url': 'http://www.guokr.com/scientific/channel/brief/', 'articles_count': 2004, 'key': 'brief', 'name': '速读'}], 'tags': [], 'is_show_summary': False, 'title': '万年被黑的森林卫士——白蚁', 'subject': {'date_created': '2014-05-23T16:22:09.282129+08:00', 'url': 'http://www.guokr.com/scientific/subject/biology/', 'articles_count': 2466, 'key': 'biology', 'name': '生物'}, 'resource_url': 'http://apis.guokr.com/minisite/article/442031.json'}\n",
      "{'minisite': None, 'authors': [{'gender': 'female', 'master_category': 'personal', 'is_exists': True, 'amended_reliability': '0', 'url': 'http://www.guokr.com/i/0108968453/', 'is_title_authorized': True, 'avatar': {'small': 'http://1.im.guokr.com/HlKgpILnHqIMp15w9Mt0F44Oi_UGNSt8mN-HhP6dA8agAAAAoAAAAEpQ.jpg?imageView2/1/w/24/h/24', 'large': 'http://1.im.guokr.com/HlKgpILnHqIMp15w9Mt0F44Oi_UGNSt8mN-HhP6dA8agAAAAoAAAAEpQ.jpg?imageView2/1/w/160/h/160', 'normal': 'http://1.im.guokr.com/HlKgpILnHqIMp15w9Mt0F44Oi_UGNSt8mN-HhP6dA8agAAAAoAAAAEpQ.jpg?imageView2/1/w/48/h/48'}, 'nickname': '球藻怪', 'followers_count': 339, 'resource_url': 'http://apis.guokr.com/community/user/1svklh.json', 'title': '营养与食品科学硕士', 'ukey': '1svklh'}], 'replies_count': 19, 'url': 'http://www.guokr.com/article/442028/', 'preface': '', 'is_replyable': True, 'copyright': 'owned_by_guokr', 'subject_key': 'others', 'author': {'gender': 'female', 'master_category': 'personal', 'is_exists': True, 'amended_reliability': '0', 'url': 'http://www.guokr.com/i/0108968453/', 'is_title_authorized': True, 'avatar': {'small': 'http://1.im.guokr.com/HlKgpILnHqIMp15w9Mt0F44Oi_UGNSt8mN-HhP6dA8agAAAAoAAAAEpQ.jpg?imageView2/1/w/24/h/24', 'large': 'http://1.im.guokr.com/HlKgpILnHqIMp15w9Mt0F44Oi_UGNSt8mN-HhP6dA8agAAAAoAAAAEpQ.jpg?imageView2/1/w/160/h/160', 'normal': 'http://1.im.guokr.com/HlKgpILnHqIMp15w9Mt0F44Oi_UGNSt8mN-HhP6dA8agAAAAoAAAAEpQ.jpg?imageView2/1/w/48/h/48'}, 'nickname': '球藻怪', 'followers_count': 339, 'resource_url': 'http://apis.guokr.com/community/user/1svklh.json', 'title': '营养与食品科学硕士', 'ukey': '1svklh'}, 'ukey_author': '1svklh', 'channel_keys': ['interview'], 'is_author_external': False, 'id': 442028, 'date_published': '2017-02-24T10:02:05+08:00', 'recommends_count': 0, 'small_image': 'http://1.im.guokr.com/SNVDKGz82p2XYSqcukojqZ9OkjTvx5l4HPB5zCoNb9dKAQAA6wAAAEpQ.jpg', 'image_info': {'height': 235, 'url': 'http://1.im.guokr.com/SNVDKGz82p2XYSqcukojqZ9OkjTvx5l4HPB5zCoNb9dKAQAA6wAAAEpQ.jpg', 'width': 330}, 'image_description': '', 'summary': '一个非游戏党给你介绍《刺客信条》电影。', 'minisite_key': None, 'image': '', 'date_modified': '2017-02-24T10:41:59.731436+08:00', 'date_created': '2017-02-24T10:02:05+08:00', 'title_hide': '不爱玩游戏也没有跑酷经验的法鲨，为什么会参演《刺客信条》？', 'channels': [{'date_created': '2014-05-23T16:22:09.282129+08:00', 'url': 'http://www.guokr.com/scientific/channel/interview/', 'articles_count': 136, 'key': 'interview', 'name': '专访'}], 'tags': [], 'is_show_summary': False, 'title': '不爱玩游戏也没有跑酷经验的法鲨，为什么会参演《刺客信条》？', 'subject': {'date_created': '2014-05-23T16:22:09.282129+08:00', 'url': 'http://www.guokr.com/scientific/subject/others/', 'articles_count': 242, 'key': 'others', 'name': '其他'}, 'resource_url': 'http://apis.guokr.com/minisite/article/442028.json'}\n",
      "{'minisite': {'date_created': '2010-10-20T16:20:44+08:00', 'icon': 'http://3.im.guokr.com/wUTGS9coWHVZatYqlPTFGo1ig-2JKzSeLNm1FHweYXRuAAAAWgAAAEpQ.jpg', 'key': 'sciblog', 'introduction': '科学与思考是人类前进的两只脚，协同一致，我们才能真正进步', 'url': 'http://www.guokr.com/site/sciblog/', 'name': '科技评论'}, 'authors': [{'ukey_author': None, 'url': '', 'avatar': 'http://3.im.guokr.com/ttrwGKLf6H-0bCE1FxU9nZm0zKwtg2x7ZR9aw4wbO0tmAQAAZgEAAEpQ.jpg', 'nickname': 'Phil Plait', 'introduction': '美国天文学家，著名天文博客The Bad Astronomy博主'}], 'replies_count': 32, 'url': 'http://www.guokr.com/article/442029/', 'preface': '', 'is_replyable': True, 'copyright': 'owned_by_translate', 'subject_key': 'astronomy', 'author': {'url': '', 'avatar': {'small': 'http://3.im.guokr.com/ttrwGKLf6H-0bCE1FxU9nZm0zKwtg2x7ZR9aw4wbO0tmAQAAZgEAAEpQ.jpg', 'large': 'http://3.im.guokr.com/ttrwGKLf6H-0bCE1FxU9nZm0zKwtg2x7ZR9aw4wbO0tmAQAAZgEAAEpQ.jpg', 'normal': 'http://3.im.guokr.com/ttrwGKLf6H-0bCE1FxU9nZm0zKwtg2x7ZR9aw4wbO0tmAQAAZgEAAEpQ.jpg'}, 'nickname': 'Phil Plait', 'introduction': '美国天文学家，著名天文博客The Bad Astronomy博主'}, 'ukey_author': None, 'channel_keys': ['hot', 'review'], 'is_author_external': True, 'id': 442029, 'date_published': '2017-02-23T17:47:20+08:00', 'recommends_count': 1, 'small_image': 'http://3.im.guokr.com/FNvtFMzY7PiO9VA2ggIMtsxTpLHy7eBsA9HKmHgEiXFKAQAASgEAAEpQ.jpg', 'image_info': {'height': 330, 'url': 'http://3.im.guokr.com/FNvtFMzY7PiO9VA2ggIMtsxTpLHy7eBsA9HKmHgEiXFKAQAASgEAAEpQ.jpg', 'width': 330}, 'image_description': '', 'summary': '天文学家在40光年外的一颗红矮星周围，发现至少7颗大小类似于地球的行星，其中至少3颗位于宜居带内，表面温度或许适合液态水存在。', 'minisite_key': 'sciblog', 'image': '', 'date_modified': '2017-02-23T17:47:17.320029+08:00', 'date_created': '2017-02-23T17:47:20+08:00', 'title_hide': 'NASA又搞大新闻，40光年外发现7颗类地行星！', 'channels': [{'date_created': '2014-05-23T16:22:09.282129+08:00', 'url': 'http://www.guokr.com/scientific/channel/hot/', 'articles_count': 1763, 'key': 'hot', 'name': '热点'}, {'date_created': '2014-05-23T16:22:09.282129+08:00', 'url': 'http://www.guokr.com/scientific/channel/review/', 'articles_count': 3555, 'key': 'review', 'name': '评论'}], 'tags': ['行星', '宜居带', '类地行星', '天文', '宇宙'], 'is_show_summary': False, 'title': 'NASA又搞大新闻，40光年外发现7颗类地行星！', 'subject': {'date_created': '2014-05-23T16:22:09.282129+08:00', 'url': 'http://www.guokr.com/scientific/subject/astronomy/', 'articles_count': 409, 'key': 'astronomy', 'name': '天文'}, 'resource_url': 'http://apis.guokr.com/minisite/article/442029.json'}\n",
      "{'minisite': None, 'authors': [{'ukey_author': None, 'url': '', 'avatar': 'http://1.im.guokr.com/HD334K_stkIMYFwWJ4MVPkK0oaDZ4lmEPexjIs_L6mxkAAAAYAAAAEpQ.jpg', 'nickname': 'Emilie Lorditch', 'introduction': 'Emilie Lorditch 为 Inside Science 网站新闻作者'}], 'replies_count': 1, 'url': 'http://www.guokr.com/article/442027/', 'preface': '', 'is_replyable': True, 'copyright': 'owned_by_translate', 'subject_key': 'others', 'author': {'url': '', 'avatar': {'small': 'http://1.im.guokr.com/HD334K_stkIMYFwWJ4MVPkK0oaDZ4lmEPexjIs_L6mxkAAAAYAAAAEpQ.jpg', 'large': 'http://1.im.guokr.com/HD334K_stkIMYFwWJ4MVPkK0oaDZ4lmEPexjIs_L6mxkAAAAYAAAAEpQ.jpg', 'normal': 'http://1.im.guokr.com/HD334K_stkIMYFwWJ4MVPkK0oaDZ4lmEPexjIs_L6mxkAAAAYAAAAEpQ.jpg'}, 'nickname': 'Emilie Lorditch', 'introduction': 'Emilie Lorditch 为 Inside Science 网站新闻作者'}, 'ukey_author': None, 'channel_keys': ['hot', 'review'], 'is_author_external': True, 'id': 442027, 'date_published': '2017-02-23T15:58:26+08:00', 'recommends_count': 2, 'small_image': 'http://3.im.guokr.com/RBsxS9vImrn32DuGrof_Qz6R0vguHFVEeLDv9zOO4e9KAQAA6wAAAFBO.png', 'image_info': {'height': 235, 'url': 'http://3.im.guokr.com/RBsxS9vImrn32DuGrof_Qz6R0vguHFVEeLDv9zOO4e9KAQAA6wAAAFBO.png', 'width': 330}, 'image_description': '', 'summary': '“奇幻森林”、“阿凡达”、“忍者神龟”、“星球大战”……这些荧幕大片中都用了哪些科学技术？', 'minisite_key': None, 'image': '', 'date_modified': '2017-02-23T15:58:20.280528+08:00', 'date_created': '2017-02-23T15:58:26+08:00', 'title_hide': '谁是荧幕背后的科技魔法师？奥斯卡科技成果奖公布', 'channels': [{'date_created': '2014-05-23T16:22:09.282129+08:00', 'url': 'http://www.guokr.com/scientific/channel/hot/', 'articles_count': 1763, 'key': 'hot', 'name': '热点'}, {'date_created': '2014-05-23T16:22:09.282129+08:00', 'url': 'http://www.guokr.com/scientific/channel/review/', 'articles_count': 3555, 'key': 'review', 'name': '评论'}], 'tags': [], 'is_show_summary': False, 'title': '谁是荧幕背后的科技魔法师？奥斯卡科技成果奖公布', 'subject': {'date_created': '2014-05-23T16:22:09.282129+08:00', 'url': 'http://www.guokr.com/scientific/subject/others/', 'articles_count': 242, 'key': 'others', 'name': '其他'}, 'resource_url': 'http://apis.guokr.com/minisite/article/442027.json'}\n",
      "{'minisite': None, 'authors': [{'ukey_author': None, 'url': '', 'avatar': 'http://1.im.guokr.com/6EtlEcRLxqdFbZd7hGecfQs9choTTG2QjwfQsZ9L15erAgAAcAIAAEpQ.jpg', 'nickname': 'Naked Facts', 'introduction': 'Naked Facts团队由科普作家Thomas Hager和Jackson Hager父子领衔，出版一系列简明科普书籍并经营一个博客。'}], 'replies_count': 20, 'url': 'http://www.guokr.com/article/442025/', 'preface': '', 'is_replyable': True, 'copyright': 'owned_by_translate', 'subject_key': 'communication', 'author': {'url': '', 'avatar': {'small': 'http://1.im.guokr.com/6EtlEcRLxqdFbZd7hGecfQs9choTTG2QjwfQsZ9L15erAgAAcAIAAEpQ.jpg', 'large': 'http://1.im.guokr.com/6EtlEcRLxqdFbZd7hGecfQs9choTTG2QjwfQsZ9L15erAgAAcAIAAEpQ.jpg', 'normal': 'http://1.im.guokr.com/6EtlEcRLxqdFbZd7hGecfQs9choTTG2QjwfQsZ9L15erAgAAcAIAAEpQ.jpg'}, 'nickname': 'Naked Facts', 'introduction': 'Naked Facts团队由科普作家Thomas Hager和Jackson Hager父子领衔，出版一系列简明科普书籍并经营一个博客。'}, 'ukey_author': None, 'channel_keys': ['review'], 'is_author_external': True, 'id': 442025, 'date_published': '2017-02-23T14:22:03+08:00', 'recommends_count': 2, 'small_image': 'http://1.im.guokr.com/s3ATBHArC7XXQprvI3bfHmWAsQVRogwCvbCAz3TKs-NKAQAAJAEAAEpQ.jpg', 'image_info': {'height': 292, 'url': 'http://1.im.guokr.com/s3ATBHArC7XXQprvI3bfHmWAsQVRogwCvbCAz3TKs-NKAQAAJAEAAEpQ.jpg', 'width': 330}, 'image_description': '', 'summary': '看到媒体报道的“科学大新闻”，相信之前，先问问这七个问题：证据在哪里？原始研究是谁完成的？资助者是谁？谁会受益？研究论文发表在哪里？研究是哪种类型？新闻的出处是哪里？', 'minisite_key': None, 'image': '', 'date_modified': '2017-02-23T14:21:53.250847+08:00', 'date_created': '2017-02-23T14:22:03+08:00', 'title_hide': '大新闻！等等，先回答我七个问题', 'channels': [{'date_created': '2014-05-23T16:22:09.282129+08:00', 'url': 'http://www.guokr.com/scientific/channel/review/', 'articles_count': 3555, 'key': 'review', 'name': '评论'}], 'tags': [], 'is_show_summary': False, 'title': '大新闻！等等，先回答我七个问题', 'subject': {'date_created': '2014-05-23T16:22:09.282129+08:00', 'url': 'http://www.guokr.com/scientific/subject/communication/', 'articles_count': 262, 'key': 'communication', 'name': '传播'}, 'resource_url': 'http://apis.guokr.com/minisite/article/442025.json'}\n",
      "{'minisite': {'date_created': '2010-10-20T16:20:44+08:00', 'icon': 'http://3.im.guokr.com/wUTGS9coWHVZatYqlPTFGo1ig-2JKzSeLNm1FHweYXRuAAAAWgAAAEpQ.jpg', 'key': 'sciblog', 'introduction': '科学与思考是人类前进的两只脚，协同一致，我们才能真正进步', 'url': 'http://www.guokr.com/site/sciblog/', 'name': '科技评论'}, 'authors': [{'gender': 'male', 'master_category': 'personal', 'is_exists': True, 'amended_reliability': '0', 'url': 'http://www.guokr.com/i/0167236805/', 'is_title_authorized': True, 'avatar': {'small': 'http://2.im.guokr.com/oj6subPriUKqedxVYqhYhd8CNxpyz1jXTbHMF9JUcL2gAAAAoAAAAEpQ.jpg?imageView2/1/w/24/h/24', 'large': 'http://2.im.guokr.com/oj6subPriUKqedxVYqhYhd8CNxpyz1jXTbHMF9JUcL2gAAAAoAAAAEpQ.jpg?imageView2/1/w/160/h/160', 'normal': 'http://2.im.guokr.com/oj6subPriUKqedxVYqhYhd8CNxpyz1jXTbHMF9JUcL2gAAAAoAAAAEpQ.jpg?imageView2/1/w/48/h/48'}, 'nickname': '史军', 'followers_count': 18480, 'resource_url': 'http://apis.guokr.com/community/user/2rkgqt.json', 'title': '植物学博士，科学松鼠会成员', 'ukey': '2rkgqt'}], 'replies_count': 77, 'url': 'http://www.guokr.com/article/442023/', 'preface': '', 'is_replyable': True, 'copyright': 'owned_by_guokr', 'subject_key': 'biology', 'author': {'gender': 'male', 'master_category': 'personal', 'is_exists': True, 'amended_reliability': '0', 'url': 'http://www.guokr.com/i/0167236805/', 'is_title_authorized': True, 'avatar': {'small': 'http://2.im.guokr.com/oj6subPriUKqedxVYqhYhd8CNxpyz1jXTbHMF9JUcL2gAAAAoAAAAEpQ.jpg?imageView2/1/w/24/h/24', 'large': 'http://2.im.guokr.com/oj6subPriUKqedxVYqhYhd8CNxpyz1jXTbHMF9JUcL2gAAAAoAAAAEpQ.jpg?imageView2/1/w/160/h/160', 'normal': 'http://2.im.guokr.com/oj6subPriUKqedxVYqhYhd8CNxpyz1jXTbHMF9JUcL2gAAAAoAAAAEpQ.jpg?imageView2/1/w/48/h/48'}, 'nickname': '史军', 'followers_count': 18480, 'resource_url': 'http://apis.guokr.com/community/user/2rkgqt.json', 'title': '植物学博士，科学松鼠会成员', 'ukey': '2rkgqt'}, 'ukey_author': '2rkgqt', 'channel_keys': ['techb'], 'is_author_external': False, 'id': 442023, 'date_published': '2017-02-22T17:37:13+08:00', 'recommends_count': 3, 'small_image': 'http://1.im.guokr.com/pHmte44cW3LIryZqrkJSXkEgp53nXtLLmylzo_eVhoxKAQAA8AAAAEpQ.jpg', 'image_info': {'height': 240, 'url': 'http://1.im.guokr.com/pHmte44cW3LIryZqrkJSXkEgp53nXtLLmylzo_eVhoxKAQAA8AAAAEpQ.jpg', 'width': 330}, 'image_description': '', 'summary': '就在本月，一种名为极地苹果（Arctic Apple）的苹果即将出现在美国水果市场的货架之上。粗看起来，这只是新品上市，水果商所做的一件再简单不过的事情。但注意了，这可是美国第一种商业化销售的转基因苹果。', 'minisite_key': 'sciblog', 'image': '', 'date_modified': '2017-02-22T17:37:08.200712+08:00', 'date_created': '2017-02-22T17:37:13+08:00', 'title_hide': '美国开卖不褐变的转基因苹果', 'channels': [{'date_created': '2014-05-23T16:22:09.282129+08:00', 'url': 'http://www.guokr.com/scientific/channel/techb/', 'articles_count': 168, 'key': 'techb', 'name': '商业科技'}], 'tags': [], 'is_show_summary': False, 'title': '美国开卖不褐变的转基因苹果', 'subject': {'date_created': '2014-05-23T16:22:09.282129+08:00', 'url': 'http://www.guokr.com/scientific/subject/biology/', 'articles_count': 2466, 'key': 'biology', 'name': '生物'}, 'resource_url': 'http://apis.guokr.com/minisite/article/442023.json'}\n",
      "{'minisite': {'date_created': '2010-10-20T16:20:44+08:00', 'icon': 'http://2.im.guokr.com/XZp0WOf8kmSXzglg1g8EC2f8Wqy1CjyeSNg0hrFI39NuAAAAWgAAAEpQ.jpg', 'key': 'psybst', 'introduction': '大脑爱偷懒，大脑爱说谎，经验靠不住，实验来帮忙', 'url': 'http://www.guokr.com/site/psybst/', 'name': '心事鉴定组'}, 'authors': [{'gender': None, 'master_category': 'normal', 'is_exists': True, 'amended_reliability': '0', 'url': 'http://www.guokr.com/i/1860377240/', 'is_title_authorized': False, 'avatar': {'small': 'http://1.im.guokr.com/hyQKGQN6d9crLsPmj-EXaBGp1kgIVFGfWgUdROanM8agAAAAoAAAAEpQ.jpg?imageView2/1/w/24/h/24', 'large': 'http://1.im.guokr.com/hyQKGQN6d9crLsPmj-EXaBGp1kgIVFGfWgUdROanM8agAAAAoAAAAEpQ.jpg?imageView2/1/w/160/h/160', 'normal': 'http://1.im.guokr.com/hyQKGQN6d9crLsPmj-EXaBGp1kgIVFGfWgUdROanM8agAAAAoAAAAEpQ.jpg?imageView2/1/w/48/h/48'}, 'nickname': 'PanSci', 'followers_count': 244, 'resource_url': 'http://apis.guokr.com/community/user/urmc9k.json', 'title': '', 'ukey': 'urmc9k'}], 'replies_count': 42, 'url': 'http://www.guokr.com/article/442024/', 'preface': '', 'is_replyable': True, 'copyright': 'owned_by_cooperation', 'subject_key': 'psychology', 'author': {'gender': None, 'master_category': 'normal', 'is_exists': True, 'amended_reliability': '0', 'url': 'http://www.guokr.com/i/1860377240/', 'is_title_authorized': False, 'avatar': {'small': 'http://1.im.guokr.com/hyQKGQN6d9crLsPmj-EXaBGp1kgIVFGfWgUdROanM8agAAAAoAAAAEpQ.jpg?imageView2/1/w/24/h/24', 'large': 'http://1.im.guokr.com/hyQKGQN6d9crLsPmj-EXaBGp1kgIVFGfWgUdROanM8agAAAAoAAAAEpQ.jpg?imageView2/1/w/160/h/160', 'normal': 'http://1.im.guokr.com/hyQKGQN6d9crLsPmj-EXaBGp1kgIVFGfWgUdROanM8agAAAAoAAAAEpQ.jpg?imageView2/1/w/48/h/48'}, 'nickname': 'PanSci', 'followers_count': 244, 'resource_url': 'http://apis.guokr.com/community/user/urmc9k.json', 'title': '', 'ukey': 'urmc9k'}, 'ukey_author': 'urmc9k', 'channel_keys': [], 'is_author_external': False, 'id': 442024, 'date_published': '2017-02-22T11:22:06+08:00', 'recommends_count': 1, 'small_image': 'http://2.im.guokr.com/xSW_Ea6_cL67EIbkZysuFZG1TPWIKVdnL_fI2JIbr6BKAQAA8AAAAEpQ.jpg', 'image_info': {'height': 240, 'url': 'http://2.im.guokr.com/xSW_Ea6_cL67EIbkZysuFZG1TPWIKVdnL_fI2JIbr6BKAQAA8AAAAEpQ.jpg', 'width': 330}, 'image_description': '', 'summary': '一个人来自哪个国家，就会有什么样的特质吗？', 'minisite_key': 'psybst', 'image': '', 'date_modified': '2017-02-22T11:22:03.788207+08:00', 'date_created': '2017-02-22T11:22:06+08:00', 'title_hide': '德国人准时，墨西哥人热情，这些国籍刻板印象有根据吗？', 'channels': [], 'tags': [], 'is_show_summary': False, 'title': '德国人准时，墨西哥人热情，这些国籍刻板印象有根据吗？', 'subject': {'date_created': '2014-05-23T16:22:09.282129+08:00', 'url': 'http://www.guokr.com/scientific/subject/psychology/', 'articles_count': 1272, 'key': 'psychology', 'name': '心理'}, 'resource_url': 'http://apis.guokr.com/minisite/article/442024.json'}\n",
      "{'minisite': {'date_created': '2010-10-20T16:20:44+08:00', 'icon': 'http://3.im.guokr.com/wUTGS9coWHVZatYqlPTFGo1ig-2JKzSeLNm1FHweYXRuAAAAWgAAAEpQ.jpg', 'key': 'sciblog', 'introduction': '科学与思考是人类前进的两只脚，协同一致，我们才能真正进步', 'url': 'http://www.guokr.com/site/sciblog/', 'name': '科技评论'}, 'authors': [{'gender': None, 'master_category': 'normal', 'is_exists': True, 'amended_reliability': '0', 'url': 'http://www.guokr.com/i/0593831345/', 'is_title_authorized': False, 'avatar': {'small': 'http://2.im.guokr.com/IjrCqnTg_TLn8ShsrYDuSsLmPXxcjGEqX6YwBV1cZTmgAAAAoAAAAEpQ.jpg?imageView2/1/w/24/h/24', 'large': 'http://2.im.guokr.com/IjrCqnTg_TLn8ShsrYDuSsLmPXxcjGEqX6YwBV1cZTmgAAAAoAAAAEpQ.jpg?imageView2/1/w/160/h/160', 'normal': 'http://2.im.guokr.com/IjrCqnTg_TLn8ShsrYDuSsLmPXxcjGEqX6YwBV1cZTmgAAAAoAAAAEpQ.jpg?imageView2/1/w/48/h/48'}, 'nickname': 'Alulull', 'followers_count': 137, 'resource_url': 'http://apis.guokr.com/community/user/9tjv75.json', 'title': '神经科学博士生', 'ukey': '9tjv75'}], 'replies_count': 20, 'url': 'http://www.guokr.com/article/442022/', 'preface': '', 'is_replyable': True, 'copyright': 'owned_by_guokr', 'subject_key': 'biology', 'author': {'gender': None, 'master_category': 'normal', 'is_exists': True, 'amended_reliability': '0', 'url': 'http://www.guokr.com/i/0593831345/', 'is_title_authorized': False, 'avatar': {'small': 'http://2.im.guokr.com/IjrCqnTg_TLn8ShsrYDuSsLmPXxcjGEqX6YwBV1cZTmgAAAAoAAAAEpQ.jpg?imageView2/1/w/24/h/24', 'large': 'http://2.im.guokr.com/IjrCqnTg_TLn8ShsrYDuSsLmPXxcjGEqX6YwBV1cZTmgAAAAoAAAAEpQ.jpg?imageView2/1/w/160/h/160', 'normal': 'http://2.im.guokr.com/IjrCqnTg_TLn8ShsrYDuSsLmPXxcjGEqX6YwBV1cZTmgAAAAoAAAAEpQ.jpg?imageView2/1/w/48/h/48'}, 'nickname': 'Alulull', 'followers_count': 137, 'resource_url': 'http://apis.guokr.com/community/user/9tjv75.json', 'title': '神经科学博士生', 'ukey': '9tjv75'}, 'ukey_author': '9tjv75', 'channel_keys': ['frontier', 'brief'], 'is_author_external': False, 'id': 442022, 'date_published': '2017-02-21T15:00:25+08:00', 'recommends_count': 4, 'small_image': 'http://1.im.guokr.com/-HciP6spmNchf92I5prpdtOsEk-b0d6qxhKiqdmTDDxKAQAA7wAAAEpQ.jpg', 'image_info': {'height': 239, 'url': 'http://1.im.guokr.com/-HciP6spmNchf92I5prpdtOsEk-b0d6qxhKiqdmTDDxKAQAA7wAAAEpQ.jpg', 'width': 330}, 'image_description': '', 'summary': '能让小鼠怕糖水就像怕电击吗？能让小鼠在建立起这种恐惧后，又忘掉这种恐惧吗？Science上的一篇新论文找到了记忆间关联的神经机制。', 'minisite_key': 'sciblog', 'image': '', 'date_modified': '2017-02-21T12:46:22.753464+08:00', 'date_created': '2017-02-21T15:00:25+08:00', 'title_hide': '记忆也能被人工剪辑？', 'channels': [{'date_created': '2014-05-23T16:22:09.282129+08:00', 'url': 'http://www.guokr.com/scientific/channel/frontier/', 'articles_count': 2222, 'key': 'frontier', 'name': '前沿'}, {'date_created': '2014-05-23T16:22:09.282129+08:00', 'url': 'http://www.guokr.com/scientific/channel/brief/', 'articles_count': 2004, 'key': 'brief', 'name': '速读'}], 'tags': [], 'is_show_summary': False, 'title': '记忆也能被人工剪辑？', 'subject': {'date_created': '2014-05-23T16:22:09.282129+08:00', 'url': 'http://www.guokr.com/scientific/subject/biology/', 'articles_count': 2466, 'key': 'biology', 'name': '生物'}, 'resource_url': 'http://apis.guokr.com/minisite/article/442022.json'}\n",
      "{'minisite': {'date_created': '2010-10-20T16:20:43+08:00', 'icon': 'http://2.im.guokr.com/gDNaY8kFHIUnyDRLBlb1hWY3fwK9eAuV5icTVSuh7TNuAAAAWgAAAEpQ.jpg', 'key': 'health', 'introduction': '每天的朝九晚五，上几篇健康小文，有趣、靠谱，还很给力', 'url': 'http://www.guokr.com/site/health/', 'name': '健康朝九晚五'}, 'authors': [{'ukey_author': None, 'url': '', 'avatar': 'http://3.im.guokr.com/IPZ3vBmrRjB3PYKX40PyeB9R25v2cOzKRApuT7ls2fMAAgAAAAIAAEpQ.jpg', 'nickname': ' Jill Neimark', 'introduction': '科学记者，曾为《科学》、《科学美国人》、《鹦鹉螺》、《纽约时报》等多家媒体撰稿。'}], 'replies_count': 17, 'url': 'http://www.guokr.com/article/442020/', 'preface': '', 'is_replyable': True, 'copyright': 'owned_by_translate', 'subject_key': 'medicine', 'author': {'url': '', 'avatar': {'small': 'http://3.im.guokr.com/IPZ3vBmrRjB3PYKX40PyeB9R25v2cOzKRApuT7ls2fMAAgAAAAIAAEpQ.jpg', 'large': 'http://3.im.guokr.com/IPZ3vBmrRjB3PYKX40PyeB9R25v2cOzKRApuT7ls2fMAAgAAAAIAAEpQ.jpg', 'normal': 'http://3.im.guokr.com/IPZ3vBmrRjB3PYKX40PyeB9R25v2cOzKRApuT7ls2fMAAgAAAAIAAEpQ.jpg'}, 'nickname': ' Jill Neimark', 'introduction': '科学记者，曾为《科学》、《科学美国人》、《鹦鹉螺》、《纽约时报》等多家媒体撰稿。'}, 'ukey_author': None, 'channel_keys': ['review'], 'is_author_external': True, 'id': 442020, 'date_published': '2017-02-21T12:52:56+08:00', 'recommends_count': 0, 'small_image': 'http://1.im.guokr.com/JWdvc0XXsDxkxzDt2lX_LSyD5f7UfmQhW7LonAixpX5KAQAA7wAAAEpQ.jpg', 'image_info': {'height': 239, 'url': 'http://1.im.guokr.com/JWdvc0XXsDxkxzDt2lX_LSyD5f7UfmQhW7LonAixpX5KAQAA7wAAAEpQ.jpg', 'width': 330}, 'image_description': '', 'summary': '线粒体移植手术能阻断线粒体疾病从母亲遗传给婴儿。但有时即使进行了移植，为什么疾病还是卷土重来？', 'minisite_key': 'health', 'image': '', 'date_modified': '2017-02-21T12:52:51.406336+08:00', 'date_created': '2017-02-21T12:52:56+08:00', 'title_hide': '三亲婴儿：线粒体移植可能有哪些风险？', 'channels': [{'date_created': '2014-05-23T16:22:09.282129+08:00', 'url': 'http://www.guokr.com/scientific/channel/review/', 'articles_count': 3555, 'key': 'review', 'name': '评论'}], 'tags': [], 'is_show_summary': False, 'title': '三亲婴儿：线粒体移植可能有哪些风险？', 'subject': {'date_created': '2014-05-23T16:22:09.282129+08:00', 'url': 'http://www.guokr.com/scientific/subject/medicine/', 'articles_count': 1717, 'key': 'medicine', 'name': '医学'}, 'resource_url': 'http://apis.guokr.com/minisite/article/442020.json'}\n",
      "{'minisite': {'date_created': '2010-10-20T16:20:44+08:00', 'icon': 'http://3.im.guokr.com/TPdfxoaxAGOhbhf2mHZsjvnXSCsT8dtGv0ItDjLiAmBuAAAAWgAAAEpQ.jpg', 'key': 'digest', 'introduction': '这里报道最新、最酷的资讯，带你快速了解世界科研一线成就', 'url': 'http://www.guokr.com/site/digest/', 'name': '环球科技观光团'}, 'authors': [{'ukey_author': None, 'url': '', 'avatar': 'http://2.im.guokr.com/3IWejb6qppbhRJdA2m2vft2SEAsEAa-7uYN6fRraxIolAQAAOAEAAFBO.png', 'nickname': 'Edson Prestes', 'introduction': 'IEEE机器人和自动控制技术协会会员'}, {'ukey_author': None, 'url': '', 'avatar': 'http://1.im.guokr.com/8oQ3-kSR0AHT1JXRKZYpAl7p0bqvxhfhBHJdYHrpAu_EAQAA-gEAAFBO.png', 'nickname': '周志华', 'introduction': 'IEEE计算机学会南京分会主席'}], 'replies_count': 32, 'url': 'http://www.guokr.com/article/442021/', 'preface': '', 'is_replyable': True, 'copyright': 'owned_by_guokr', 'subject_key': 'electronics', 'author': {'url': '', 'avatar': {'small': 'http://2.im.guokr.com/3IWejb6qppbhRJdA2m2vft2SEAsEAa-7uYN6fRraxIolAQAAOAEAAFBO.png', 'large': 'http://2.im.guokr.com/3IWejb6qppbhRJdA2m2vft2SEAsEAa-7uYN6fRraxIolAQAAOAEAAFBO.png', 'normal': 'http://2.im.guokr.com/3IWejb6qppbhRJdA2m2vft2SEAsEAa-7uYN6fRraxIolAQAAOAEAAFBO.png'}, 'nickname': 'Edson Prestes', 'introduction': 'IEEE机器人和自动控制技术协会会员'}, 'ukey_author': None, 'channel_keys': ['frontier', 'review'], 'is_author_external': True, 'id': 442021, 'date_published': '2017-02-21T11:06:46+08:00', 'recommends_count': 1, 'small_image': 'http://1.im.guokr.com/-zNcPblhn4KtD_2acE94taESESU-yXqNuqY5ZK5ISalKAQAA6wAAAEpQ.jpg', 'image_info': {'height': 235, 'url': 'http://1.im.guokr.com/-zNcPblhn4KtD_2acE94taESESU-yXqNuqY5ZK5ISalKAQAA6wAAAEpQ.jpg', 'width': 330}, 'image_description': '', 'summary': '科学人对话电气与电子工程师学会（IEEE）的人工智能专家，和他们聊了聊崛起的AI。', 'minisite_key': 'digest', 'image': '', 'date_modified': '2017-02-21T11:06:44.393733+08:00', 'date_created': '2017-02-21T11:06:46+08:00', 'title_hide': '科学人对话IEEE：我等的AI , 它在多远的未来？', 'channels': [{'date_created': '2014-05-23T16:22:09.282129+08:00', 'url': 'http://www.guokr.com/scientific/channel/frontier/', 'articles_count': 2222, 'key': 'frontier', 'name': '前沿'}, {'date_created': '2014-05-23T16:22:09.282129+08:00', 'url': 'http://www.guokr.com/scientific/channel/review/', 'articles_count': 3555, 'key': 'review', 'name': '评论'}], 'tags': [], 'is_show_summary': False, 'title': '科学人对话IEEE：我等的AI , 它在多远的未来？', 'subject': {'date_created': '2014-05-23T16:22:09.282129+08:00', 'url': 'http://www.guokr.com/scientific/subject/electronics/', 'articles_count': 765, 'key': 'electronics', 'name': '电子'}, 'resource_url': 'http://apis.guokr.com/minisite/article/442021.json'}\n"
     ]
    }
   ],
   "source": [
    "import json\n",
    "url = 'http://www.guokr.com/apis/minisite/article.json?retrieve_type=by_subject&limit=20&offset=78&_=1492275395425'\n",
    "html = requests.get(url)\n",
    "data_list = json.loads(html.text)\n",
    "print(data_list.keys())\n",
    "for data in data_list['result']:\n",
    "    #pass\n",
    "    print(data)"
   ]
  },
  {
   "cell_type": "code",
   "execution_count": 40,
   "metadata": {},
   "outputs": [
    {
     "name": "stdout",
     "output_type": "stream",
     "text": [
      "dict_keys(['total', 'limit', 'now', 'offset', 'ok', 'result'])\n",
      "dict_keys(['total', 'limit', 'now', 'offset', 'ok', 'result'])\n",
      "dict_keys(['total', 'limit', 'now', 'offset', 'ok', 'result'])\n",
      "dict_keys(['total', 'limit', 'now', 'offset', 'ok', 'result'])\n"
     ]
    }
   ],
   "source": [
    "from bs4 import BeautifulSoup\n",
    "import requests\n",
    "import json\n",
    "import pymongo\n",
    "\n",
    "url = 'http://www.guokr.com/scientific/'\n",
    "\n",
    "def getData(url):\n",
    "    connection = pymongo.MongoClient('localhost', 27017)\n",
    "    guokeDB = connection.guokeDB\n",
    "    guokeData = guokeDB.guokeData\n",
    "    html = requests.get(url)\n",
    "    data_list = json.loads(html.text)\n",
    "    print(data_list.keys())\n",
    "    for data in data_list['result']:\n",
    "        guokeData.insert_one(data)\n",
    "\n",
    "urls = ['http://www.guokr.com/apis/minisite/article.json?retrieve_type=by_subject&limit=20&offset={}&_=1462252453410'.format(str(i)) for i in range(20, 100, 20)]\n",
    "for url in urls:\n",
    "    getData(url)"
   ]
  },
  {
   "cell_type": "markdown",
   "metadata": {
    "collapsed": true
   },
   "source": [
    "------------"
   ]
  },
  {
   "cell_type": "markdown",
   "metadata": {},
   "source": [
    "<hr>"
   ]
  },
  {
   "cell_type": "markdown",
   "metadata": {},
   "source": [
    "## 5.HDFS简介"
   ]
  },
  {
   "cell_type": "markdown",
   "metadata": {},
   "source": [
    "HDFS定义：\n",
    "\n",
    "- HDFS:Hadoop Distributed File System\n",
    "- Hadoop项目的核心子项目，是Hadoop主要的一个分布式文件系统\n",
    "- 比较流行的是将抓取的网页保存在分布式文件系统上"
   ]
  },
  {
   "cell_type": "markdown",
   "metadata": {},
   "source": [
    "Hadoop是一个由Apache基金会所开发的分布式系统基础架构。\n",
    "\n",
    "- 支持用户在不了解分布式底层细节的情况下，开发分布式程序\n",
    "- 充分利用集群的威力进行高速运算和存储。\n",
    "- Hadoop实现了一个分布式文件系统（Hadoop Distributed File System）-HDFS\n",
    "- HDFS有高容错性的特点，并且设计用来部署在低廉的（low-cost）硬件上\n",
    "- 提供高吞吐量（high throughput）来访问应用程序的数据\n",
    "- 适合大数据集的应用。\n",
    "- Hadoop的框架最核心的设计就是：HDFS和MapReduce\n",
    "- HDFS为海量的数据提供了存储，则MapReduce为海量的数据提供了计算"
   ]
  },
  {
   "cell_type": "markdown",
   "metadata": {},
   "source": [
    "爬虫或者类似应用的做法：\n",
    "\n",
    "- 将HDFS看成数据库（虽然不是）。做到比NoSQL更彻底\n",
    "- 从结构化的关系数据库，到无模式的NoSQL，到HDFS文件系统（更灵活，更强大）\n",
    "- **主要考虑到后续操作**"
   ]
  },
  {
   "cell_type": "markdown",
   "metadata": {},
   "source": [
    "<hr>\n",
    "Hadoop作为大数据离线分析的一套框架，通常会和HDFS文件系统组合，进行数据的分析：\n",
    "\n",
    "- 注意：我们的爬虫爬下来网页只是第一步，后续的分析才是重头戏\n",
    "- 如果面对巨大的数据量，会利用Hadoop这样分布式系统框架进行分析，那么从数据源（各个网站的页面）到HDFS成为了一个一步到位的方式。"
   ]
  },
  {
   "cell_type": "markdown",
   "metadata": {},
   "source": [
    "![](./dataTm/work_pic/hdfsread.png)"
   ]
  },
  {
   "cell_type": "markdown",
   "metadata": {},
   "source": [
    "![](./dataTm/work_pic/hdfswrite.png)"
   ]
  },
  {
   "cell_type": "markdown",
   "metadata": {},
   "source": [
    "基本操作与类Unix操作系统类似："
   ]
  },
  {
   "cell_type": "markdown",
   "metadata": {},
   "source": [
    "```code\n",
    "$ bin/hadoop dfs -ls\n",
    "$ bin/hadoop dfs -ls doc_name\n",
    "$ bin/hadoop dfs -put local_file hdfs_file\n",
    "# 理解成上传至数据库\n",
    "$ bin/hadoop dfs -get hdfs_file local_file\n",
    "# 理解成从数据库获取至本地文件\n",
    "$ bin/hadoop dfs -cat hdfs_doc/*\n",
    "\n",
    "\n",
    "\n",
    "```"
   ]
  },
  {
   "cell_type": "markdown",
   "metadata": {},
   "source": [
    "优点："
   ]
  },
  {
   "cell_type": "markdown",
   "metadata": {
    "collapsed": true
   },
   "source": [
    "1. 一个文件可以大于每个磁盘\n",
    "2. 文件不用全在一个磁盘上\n",
    "3. 简化了存储子系统的设计\n",
    "4. HDFS是基于主从结构（master/slaver）构件（对比爬虫）"
   ]
  },
  {
   "cell_type": "markdown",
   "metadata": {},
   "source": [
    "Hadoop基于Java？\n",
    "1. Python"
   ]
  },
  {
   "cell_type": "markdown",
   "metadata": {},
   "source": [
    "![](./dataTm/work_pic/pyhdfs.png)"
   ]
  },
  {
   "cell_type": "code",
   "execution_count": null,
   "metadata": {
    "collapsed": true
   },
   "outputs": [],
   "source": [
    "import pyhdfs\n",
    "\n",
    "fs = pyhdfs.connect(\"192.168.1.1\", 9000)\n",
    "pyhdfs.get(fs, \"/path/to/remote-src-file\", \"/path/to/local-dst-file\")\n",
    "\n",
    "f = pyhdfs.open(fs, \"/user/project/quotes.txt\", \"w\")\n",
    "pyhdfs.write(fs, f, \"hello hadoop and hello big data.\")\n",
    "pyhdfs.close(fs, f)\n",
    "\n",
    "pyhdfs.disconnect(fs)"
   ]
  },
  {
   "cell_type": "markdown",
   "metadata": {},
   "source": [
    "一种新思路："
   ]
  },
  {
   "cell_type": "markdown",
   "metadata": {},
   "source": [
    "Docker介绍"
   ]
  },
  {
   "cell_type": "markdown",
   "metadata": {},
   "source": [
    "- Docker 是 PaaS 提供商 dotCloud 开源的一个基于 LXC 的高级容器引擎，源代码托管在 Github 上, 基于go语言并遵从Apache2.0协议开源。"
   ]
  },
  {
   "cell_type": "markdown",
   "metadata": {},
   "source": [
    "- ETCD是用于共享配置和服务发现的分布式，一致性的**KV存储系统**。该项目目前最新稳定版本为2.3.0.ETCD是CoreOS公司发起的一个开源项目，授权协议为Apache。"
   ]
  },
  {
   "cell_type": "markdown",
   "metadata": {},
   "source": [
    "- zerg基于Docker的分布式爬虫服务\n",
    "- https://github.com/huichen/zerg"
   ]
  },
  {
   "cell_type": "markdown",
   "metadata": {},
   "source": [
    "![](./dataTm/work_pic/zerg.png)"
   ]
  },
  {
   "cell_type": "markdown",
   "metadata": {},
   "source": [
    "特性\n",
    "\n",
    "- 多机多 IP，充分利用 IP 资源\n",
    "- 服务自动发现和注册（基于 etcd 和 registrator）\n",
    "- 负载均衡\n",
    "- 服务端客户端通信基于 gRPC，支持多种编程语言的客户端\n",
    "- 可设置抓取超时\n",
    "- 支持 GET、HEAD、POST 方法\n",
    "- 支持自定义 header"
   ]
  },
  {
   "cell_type": "markdown",
   "metadata": {
    "collapsed": true
   },
   "source": [
    "## 6.爬虫爬取入库案例"
   ]
  },
  {
   "cell_type": "code",
   "execution_count": 60,
   "metadata": {
    "collapsed": true
   },
   "outputs": [],
   "source": [
    "# 见mysql与mongdb部分"
   ]
  },
  {
   "cell_type": "markdown",
   "metadata": {},
   "source": [
    "tips:\n",
    "\n",
    "附：利用AppServ安装web server包括MySQL的注意点"
   ]
  },
  {
   "cell_type": "markdown",
   "metadata": {},
   "source": [
    "![](./dataTm/work_pic/VC11.png)"
   ]
  },
  {
   "cell_type": "markdown",
   "metadata": {},
   "source": [
    "![](./dataTm/work_pic/vc2012.png)"
   ]
  },
  {
   "cell_type": "markdown",
   "metadata": {},
   "source": [
    "![](./dataTm/work_pic/vc2015.png)"
   ]
  },
  {
   "cell_type": "markdown",
   "metadata": {},
   "source": [
    "![](./dataTm/work_pic/vc2015suc.png)"
   ]
  },
  {
   "cell_type": "markdown",
   "metadata": {},
   "source": [
    "![](./dataTm/work_pic/appserv.png)"
   ]
  },
  {
   "cell_type": "markdown",
   "metadata": {},
   "source": [
    "![](./dataTm/work_pic/mysql_setup.png)"
   ]
  },
  {
   "cell_type": "markdown",
   "metadata": {},
   "source": [
    "![](./dataTm/work_pic/start_mysql_apache.png)"
   ]
  },
  {
   "cell_type": "code",
   "execution_count": null,
   "metadata": {
    "collapsed": true
   },
   "outputs": [],
   "source": []
  }
 ],
 "metadata": {
  "kernelspec": {
   "display_name": "Python 3",
   "language": "python",
   "name": "python3"
  },
  "language_info": {
   "codemirror_mode": {
    "name": "ipython",
    "version": 3
   },
   "file_extension": ".py",
   "mimetype": "text/x-python",
   "name": "python",
   "nbconvert_exporter": "python",
   "pygments_lexer": "ipython3",
   "version": "3.5.3"
  }
 },
 "nbformat": 4,
 "nbformat_minor": 2
}
